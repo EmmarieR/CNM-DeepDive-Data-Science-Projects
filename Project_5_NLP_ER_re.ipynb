{
  "cells": [
    {
      "cell_type": "markdown",
      "metadata": {
        "id": "view-in-github",
        "colab_type": "text"
      },
      "source": [
        "<a href=\"https://colab.research.google.com/github/EmmarieR/CNM-DeepDive-Data-Science-Projects/blob/main/Project_5_NLP_ER_re.ipynb\" target=\"_parent\"><img src=\"https://colab.research.google.com/assets/colab-badge.svg\" alt=\"Open In Colab\"/></a>"
      ]
    },
    {
      "cell_type": "markdown",
      "metadata": {
        "id": "CxYSWPCsM0YU"
      },
      "source": [
        "# Natural Language Processing\n",
        "\n"
      ]
    },
    {
      "cell_type": "markdown",
      "metadata": {
        "id": "FGQCPUEuNezI"
      },
      "source": [
        "This project will give you practical experience using Natural Language Processing techniques. This project is in three parts:\n",
        "- in part 1) you will use a dataset in a CSV file\n",
        "- in part 2) you will use the Wikipedia API to directly access content\n",
        "on Wikipedia.\n",
        "- in part 3) you will make your notebook interactive\n"
      ]
    },
    {
      "cell_type": "markdown",
      "source": [
        "#imports"
      ],
      "metadata": {
        "id": "seReAKkkgRa-"
      }
    },
    {
      "cell_type": "code",
      "source": [
        "!pip install wikipedia-api"
      ],
      "metadata": {
        "colab": {
          "base_uri": "https://localhost:8080/"
        },
        "id": "9BK1p_6oHdy9",
        "outputId": "42bced76-a87f-4c52-9e3b-2a489b4b69a9"
      },
      "execution_count": null,
      "outputs": [
        {
          "output_type": "stream",
          "name": "stdout",
          "text": [
            "Collecting wikipedia-api\n",
            "  Downloading wikipedia_api-0.8.1.tar.gz (19 kB)\n",
            "  Preparing metadata (setup.py) ... \u001b[?25l\u001b[?25hdone\n",
            "Requirement already satisfied: requests in /usr/local/lib/python3.11/dist-packages (from wikipedia-api) (2.32.3)\n",
            "Requirement already satisfied: charset-normalizer<4,>=2 in /usr/local/lib/python3.11/dist-packages (from requests->wikipedia-api) (3.4.1)\n",
            "Requirement already satisfied: idna<4,>=2.5 in /usr/local/lib/python3.11/dist-packages (from requests->wikipedia-api) (3.10)\n",
            "Requirement already satisfied: urllib3<3,>=1.21.1 in /usr/local/lib/python3.11/dist-packages (from requests->wikipedia-api) (2.4.0)\n",
            "Requirement already satisfied: certifi>=2017.4.17 in /usr/local/lib/python3.11/dist-packages (from requests->wikipedia-api) (2025.4.26)\n",
            "Building wheels for collected packages: wikipedia-api\n",
            "  Building wheel for wikipedia-api (setup.py) ... \u001b[?25l\u001b[?25hdone\n",
            "  Created wheel for wikipedia-api: filename=Wikipedia_API-0.8.1-py3-none-any.whl size=15383 sha256=78160a61f16713576ba9f23221d25a6b9e1ff5cf81ec25d806b4b1daf43ed96a\n",
            "  Stored in directory: /root/.cache/pip/wheels/0b/0f/39/e8214ec038ccd5aeb8c82b957289f2f3ab2251febeae5c2860\n",
            "Successfully built wikipedia-api\n",
            "Installing collected packages: wikipedia-api\n",
            "Successfully installed wikipedia-api-0.8.1\n"
          ]
        }
      ]
    },
    {
      "cell_type": "code",
      "source": [
        "import pandas as pd\n",
        "import numpy as np\n",
        "\n",
        "import urllib.parse\n",
        "from io import StringIO\n",
        "import requests\n",
        "\n",
        "import requests\n",
        "from bs4 import BeautifulSoup\n",
        "import wikipediaapi\n",
        "\n",
        "from sklearn.feature_extraction.text import CountVectorizer\n",
        "from sklearn.metrics.pairwise import cosine_similarity\n",
        "from textblob import TextBlob\n",
        "from scipy.sparse import csr_matrix\n",
        "from sklearn.feature_extraction.text import CountVectorizer as BagOfWords\n",
        "from sklearn.feature_extraction.text import TfidfTransformer\n",
        "from sklearn.feature_extraction.text import TfidfVectorizer\n",
        "from sklearn.neighbors import NearestNeighbors\n",
        "\n",
        "import matplotlib.pyplot as plt\n",
        "import seaborn as sns\n",
        "\n",
        "import ipywidgets as widgets\n",
        "from IPython.display import display\n",
        "from ipywidgets import interact, interactive, fixed, interact_manual\n",
        "import urllib.parse"
      ],
      "metadata": {
        "id": "6b578DnIgOK-"
      },
      "execution_count": null,
      "outputs": []
    },
    {
      "cell_type": "markdown",
      "metadata": {
        "id": "IP5iaS9lNamW"
      },
      "source": [
        "# Part 1)\n",
        "\n"
      ]
    },
    {
      "cell_type": "markdown",
      "metadata": {
        "id": "twaXGmp6OAPK"
      },
      "source": [
        "- The CSV file is available at https://ddc-datascience.s3.amazonaws.com/Projects/Project.5-NLP/Data/NLP.csv\n",
        "- The file contains a list of famous people and a brief overview.\n",
        "- The goal of part 1) is to ...\n",
        "  1. Pick one person from the list ( the target person ) and output 10 other people who's overview are \"closest\" to the target person in a Natural Language Processing sense\n",
        "  1. Also output the sentiment of the overview of the target person\n",
        "\n"
      ]
    },
    {
      "cell_type": "code",
      "source": [
        "!curl -s https://ddc-datascience.s3.amazonaws.com/Projects/Project.5-NLP/Data/NLP.csv | wc -l"
      ],
      "metadata": {
        "colab": {
          "base_uri": "https://localhost:8080/"
        },
        "id": "t6dopgR3vfDU",
        "outputId": "80477c27-4513-4f98-af54-d84ea43dd796"
      },
      "execution_count": null,
      "outputs": [
        {
          "output_type": "stream",
          "name": "stdout",
          "text": [
            "42786\n"
          ]
        }
      ]
    },
    {
      "cell_type": "markdown",
      "source": [
        "## Read in Data"
      ],
      "metadata": {
        "id": "CJI5j0j-fwzV"
      }
    },
    {
      "cell_type": "code",
      "source": [
        "# read in the csv to pandas\n",
        "names_df = pd.read_csv('https://ddc-datascience.s3.amazonaws.com/Projects/Project.5-NLP/Data/NLP.csv')"
      ],
      "metadata": {
        "id": "XMZg0ljofwN2"
      },
      "execution_count": null,
      "outputs": []
    },
    {
      "cell_type": "code",
      "source": [
        "names_df.head(20)"
      ],
      "metadata": {
        "id": "yHBJAbrGviBT",
        "colab": {
          "base_uri": "https://localhost:8080/",
          "height": 677
        },
        "outputId": "994da9c3-fe77-4d59-d3bc-922afd291e90"
      },
      "execution_count": null,
      "outputs": [
        {
          "output_type": "execute_result",
          "data": {
            "text/plain": [
              "                                                  URI  \\\n",
              "0         <http://dbpedia.org/resource/Digby_Morrell>   \n",
              "1        <http://dbpedia.org/resource/Alfred_J._Lewy>   \n",
              "2         <http://dbpedia.org/resource/Harpdog_Brown>   \n",
              "3   <http://dbpedia.org/resource/Franz_Rottensteiner>   \n",
              "4                <http://dbpedia.org/resource/G-Enka>   \n",
              "5         <http://dbpedia.org/resource/Sam_Henderson>   \n",
              "6         <http://dbpedia.org/resource/Aaron_LaCrate>   \n",
              "7       <http://dbpedia.org/resource/Trevor_Ferguson>   \n",
              "8          <http://dbpedia.org/resource/Grant_Nelson>   \n",
              "9          <http://dbpedia.org/resource/Cathy_Caruth>   \n",
              "10         <http://dbpedia.org/resource/Sophie_Crumb>   \n",
              "11        <http://dbpedia.org/resource/Jenn_Ashworth>   \n",
              "12     <http://dbpedia.org/resource/Jonathan_Hoefler>   \n",
              "13  <http://dbpedia.org/resource/Anthony_Gueterboc...   \n",
              "14   <http://dbpedia.org/resource/David_Chernushenko>   \n",
              "15       <http://dbpedia.org/resource/Joerg_Steineck>   \n",
              "16       <http://dbpedia.org/resource/Andrew_Pinsent>   \n",
              "17  <http://dbpedia.org/resource/Paddy_Dunne_(Gael...   \n",
              "18    <http://dbpedia.org/resource/Alexandros_Mouzas>   \n",
              "19  <http://dbpedia.org/resource/John_Angus_Campbell>   \n",
              "\n",
              "                                       name  \\\n",
              "0                             Digby Morrell   \n",
              "1                            Alfred J. Lewy   \n",
              "2                             Harpdog Brown   \n",
              "3                       Franz Rottensteiner   \n",
              "4                                    G-Enka   \n",
              "5                             Sam Henderson   \n",
              "6                             Aaron LaCrate   \n",
              "7                           Trevor Ferguson   \n",
              "8                              Grant Nelson   \n",
              "9                              Cathy Caruth   \n",
              "10                             Sophie Crumb   \n",
              "11                            Jenn Ashworth   \n",
              "12                         Jonathan Hoefler   \n",
              "13  Anthony Gueterbock, 18th Baron Berkeley   \n",
              "14                       David Chernushenko   \n",
              "15                           Joerg Steineck   \n",
              "16                           Andrew Pinsent   \n",
              "17          Paddy Dunne (Gaelic footballer)   \n",
              "18                        Alexandros Mouzas   \n",
              "19                      John Angus Campbell   \n",
              "\n",
              "                                                 text  \n",
              "0   digby morrell born 10 october 1979 is a former...  \n",
              "1   alfred j lewy aka sandy lewy graduated from un...  \n",
              "2   harpdog brown is a singer and harmonica player...  \n",
              "3   franz rottensteiner born in waidmannsfeld lowe...  \n",
              "4   henry krvits born 30 december 1974 in tallinn ...  \n",
              "5   sam henderson born october 18 1969 is an ameri...  \n",
              "6   aaron lacrate is an american music producer re...  \n",
              "7   trevor ferguson aka john farrow born 11 novemb...  \n",
              "8   grant nelson born 27 april 1971 in london also...  \n",
              "9   cathy caruth born 1955 is frank h t rhodes pro...  \n",
              "10  sophia violet sophie crumb born september 27 1...  \n",
              "11  jenn ashworth is an english writer she was bor...  \n",
              "12  jonathan hoefler born august 22 1970 is an ame...  \n",
              "13  anthony fitzhardinge gueterbock 18th baron ber...  \n",
              "14  david chernushenko born june 1963 in calgary a...  \n",
              "15  joerg steineck is a german filmmaker editor an...  \n",
              "16  fr andrew pinsent born 19 august 1966 is resea...  \n",
              "17  paddy dunne was a gaelic football player from ...  \n",
              "18  alexandros mouzas born 1962 is a greek compose...  \n",
              "19  john angus campbell born march 10 1942 in port...  "
            ],
            "text/html": [
              "\n",
              "  <div id=\"df-6455b242-32fa-496a-ae13-ddc4a078545d\" class=\"colab-df-container\">\n",
              "    <div>\n",
              "<style scoped>\n",
              "    .dataframe tbody tr th:only-of-type {\n",
              "        vertical-align: middle;\n",
              "    }\n",
              "\n",
              "    .dataframe tbody tr th {\n",
              "        vertical-align: top;\n",
              "    }\n",
              "\n",
              "    .dataframe thead th {\n",
              "        text-align: right;\n",
              "    }\n",
              "</style>\n",
              "<table border=\"1\" class=\"dataframe\">\n",
              "  <thead>\n",
              "    <tr style=\"text-align: right;\">\n",
              "      <th></th>\n",
              "      <th>URI</th>\n",
              "      <th>name</th>\n",
              "      <th>text</th>\n",
              "    </tr>\n",
              "  </thead>\n",
              "  <tbody>\n",
              "    <tr>\n",
              "      <th>0</th>\n",
              "      <td>&lt;http://dbpedia.org/resource/Digby_Morrell&gt;</td>\n",
              "      <td>Digby Morrell</td>\n",
              "      <td>digby morrell born 10 october 1979 is a former...</td>\n",
              "    </tr>\n",
              "    <tr>\n",
              "      <th>1</th>\n",
              "      <td>&lt;http://dbpedia.org/resource/Alfred_J._Lewy&gt;</td>\n",
              "      <td>Alfred J. Lewy</td>\n",
              "      <td>alfred j lewy aka sandy lewy graduated from un...</td>\n",
              "    </tr>\n",
              "    <tr>\n",
              "      <th>2</th>\n",
              "      <td>&lt;http://dbpedia.org/resource/Harpdog_Brown&gt;</td>\n",
              "      <td>Harpdog Brown</td>\n",
              "      <td>harpdog brown is a singer and harmonica player...</td>\n",
              "    </tr>\n",
              "    <tr>\n",
              "      <th>3</th>\n",
              "      <td>&lt;http://dbpedia.org/resource/Franz_Rottensteiner&gt;</td>\n",
              "      <td>Franz Rottensteiner</td>\n",
              "      <td>franz rottensteiner born in waidmannsfeld lowe...</td>\n",
              "    </tr>\n",
              "    <tr>\n",
              "      <th>4</th>\n",
              "      <td>&lt;http://dbpedia.org/resource/G-Enka&gt;</td>\n",
              "      <td>G-Enka</td>\n",
              "      <td>henry krvits born 30 december 1974 in tallinn ...</td>\n",
              "    </tr>\n",
              "    <tr>\n",
              "      <th>5</th>\n",
              "      <td>&lt;http://dbpedia.org/resource/Sam_Henderson&gt;</td>\n",
              "      <td>Sam Henderson</td>\n",
              "      <td>sam henderson born october 18 1969 is an ameri...</td>\n",
              "    </tr>\n",
              "    <tr>\n",
              "      <th>6</th>\n",
              "      <td>&lt;http://dbpedia.org/resource/Aaron_LaCrate&gt;</td>\n",
              "      <td>Aaron LaCrate</td>\n",
              "      <td>aaron lacrate is an american music producer re...</td>\n",
              "    </tr>\n",
              "    <tr>\n",
              "      <th>7</th>\n",
              "      <td>&lt;http://dbpedia.org/resource/Trevor_Ferguson&gt;</td>\n",
              "      <td>Trevor Ferguson</td>\n",
              "      <td>trevor ferguson aka john farrow born 11 novemb...</td>\n",
              "    </tr>\n",
              "    <tr>\n",
              "      <th>8</th>\n",
              "      <td>&lt;http://dbpedia.org/resource/Grant_Nelson&gt;</td>\n",
              "      <td>Grant Nelson</td>\n",
              "      <td>grant nelson born 27 april 1971 in london also...</td>\n",
              "    </tr>\n",
              "    <tr>\n",
              "      <th>9</th>\n",
              "      <td>&lt;http://dbpedia.org/resource/Cathy_Caruth&gt;</td>\n",
              "      <td>Cathy Caruth</td>\n",
              "      <td>cathy caruth born 1955 is frank h t rhodes pro...</td>\n",
              "    </tr>\n",
              "    <tr>\n",
              "      <th>10</th>\n",
              "      <td>&lt;http://dbpedia.org/resource/Sophie_Crumb&gt;</td>\n",
              "      <td>Sophie Crumb</td>\n",
              "      <td>sophia violet sophie crumb born september 27 1...</td>\n",
              "    </tr>\n",
              "    <tr>\n",
              "      <th>11</th>\n",
              "      <td>&lt;http://dbpedia.org/resource/Jenn_Ashworth&gt;</td>\n",
              "      <td>Jenn Ashworth</td>\n",
              "      <td>jenn ashworth is an english writer she was bor...</td>\n",
              "    </tr>\n",
              "    <tr>\n",
              "      <th>12</th>\n",
              "      <td>&lt;http://dbpedia.org/resource/Jonathan_Hoefler&gt;</td>\n",
              "      <td>Jonathan Hoefler</td>\n",
              "      <td>jonathan hoefler born august 22 1970 is an ame...</td>\n",
              "    </tr>\n",
              "    <tr>\n",
              "      <th>13</th>\n",
              "      <td>&lt;http://dbpedia.org/resource/Anthony_Gueterboc...</td>\n",
              "      <td>Anthony Gueterbock, 18th Baron Berkeley</td>\n",
              "      <td>anthony fitzhardinge gueterbock 18th baron ber...</td>\n",
              "    </tr>\n",
              "    <tr>\n",
              "      <th>14</th>\n",
              "      <td>&lt;http://dbpedia.org/resource/David_Chernushenko&gt;</td>\n",
              "      <td>David Chernushenko</td>\n",
              "      <td>david chernushenko born june 1963 in calgary a...</td>\n",
              "    </tr>\n",
              "    <tr>\n",
              "      <th>15</th>\n",
              "      <td>&lt;http://dbpedia.org/resource/Joerg_Steineck&gt;</td>\n",
              "      <td>Joerg Steineck</td>\n",
              "      <td>joerg steineck is a german filmmaker editor an...</td>\n",
              "    </tr>\n",
              "    <tr>\n",
              "      <th>16</th>\n",
              "      <td>&lt;http://dbpedia.org/resource/Andrew_Pinsent&gt;</td>\n",
              "      <td>Andrew Pinsent</td>\n",
              "      <td>fr andrew pinsent born 19 august 1966 is resea...</td>\n",
              "    </tr>\n",
              "    <tr>\n",
              "      <th>17</th>\n",
              "      <td>&lt;http://dbpedia.org/resource/Paddy_Dunne_(Gael...</td>\n",
              "      <td>Paddy Dunne (Gaelic footballer)</td>\n",
              "      <td>paddy dunne was a gaelic football player from ...</td>\n",
              "    </tr>\n",
              "    <tr>\n",
              "      <th>18</th>\n",
              "      <td>&lt;http://dbpedia.org/resource/Alexandros_Mouzas&gt;</td>\n",
              "      <td>Alexandros Mouzas</td>\n",
              "      <td>alexandros mouzas born 1962 is a greek compose...</td>\n",
              "    </tr>\n",
              "    <tr>\n",
              "      <th>19</th>\n",
              "      <td>&lt;http://dbpedia.org/resource/John_Angus_Campbell&gt;</td>\n",
              "      <td>John Angus Campbell</td>\n",
              "      <td>john angus campbell born march 10 1942 in port...</td>\n",
              "    </tr>\n",
              "  </tbody>\n",
              "</table>\n",
              "</div>\n",
              "    <div class=\"colab-df-buttons\">\n",
              "\n",
              "  <div class=\"colab-df-container\">\n",
              "    <button class=\"colab-df-convert\" onclick=\"convertToInteractive('df-6455b242-32fa-496a-ae13-ddc4a078545d')\"\n",
              "            title=\"Convert this dataframe to an interactive table.\"\n",
              "            style=\"display:none;\">\n",
              "\n",
              "  <svg xmlns=\"http://www.w3.org/2000/svg\" height=\"24px\" viewBox=\"0 -960 960 960\">\n",
              "    <path d=\"M120-120v-720h720v720H120Zm60-500h600v-160H180v160Zm220 220h160v-160H400v160Zm0 220h160v-160H400v160ZM180-400h160v-160H180v160Zm440 0h160v-160H620v160ZM180-180h160v-160H180v160Zm440 0h160v-160H620v160Z\"/>\n",
              "  </svg>\n",
              "    </button>\n",
              "\n",
              "  <style>\n",
              "    .colab-df-container {\n",
              "      display:flex;\n",
              "      gap: 12px;\n",
              "    }\n",
              "\n",
              "    .colab-df-convert {\n",
              "      background-color: #E8F0FE;\n",
              "      border: none;\n",
              "      border-radius: 50%;\n",
              "      cursor: pointer;\n",
              "      display: none;\n",
              "      fill: #1967D2;\n",
              "      height: 32px;\n",
              "      padding: 0 0 0 0;\n",
              "      width: 32px;\n",
              "    }\n",
              "\n",
              "    .colab-df-convert:hover {\n",
              "      background-color: #E2EBFA;\n",
              "      box-shadow: 0px 1px 2px rgba(60, 64, 67, 0.3), 0px 1px 3px 1px rgba(60, 64, 67, 0.15);\n",
              "      fill: #174EA6;\n",
              "    }\n",
              "\n",
              "    .colab-df-buttons div {\n",
              "      margin-bottom: 4px;\n",
              "    }\n",
              "\n",
              "    [theme=dark] .colab-df-convert {\n",
              "      background-color: #3B4455;\n",
              "      fill: #D2E3FC;\n",
              "    }\n",
              "\n",
              "    [theme=dark] .colab-df-convert:hover {\n",
              "      background-color: #434B5C;\n",
              "      box-shadow: 0px 1px 3px 1px rgba(0, 0, 0, 0.15);\n",
              "      filter: drop-shadow(0px 1px 2px rgba(0, 0, 0, 0.3));\n",
              "      fill: #FFFFFF;\n",
              "    }\n",
              "  </style>\n",
              "\n",
              "    <script>\n",
              "      const buttonEl =\n",
              "        document.querySelector('#df-6455b242-32fa-496a-ae13-ddc4a078545d button.colab-df-convert');\n",
              "      buttonEl.style.display =\n",
              "        google.colab.kernel.accessAllowed ? 'block' : 'none';\n",
              "\n",
              "      async function convertToInteractive(key) {\n",
              "        const element = document.querySelector('#df-6455b242-32fa-496a-ae13-ddc4a078545d');\n",
              "        const dataTable =\n",
              "          await google.colab.kernel.invokeFunction('convertToInteractive',\n",
              "                                                    [key], {});\n",
              "        if (!dataTable) return;\n",
              "\n",
              "        const docLinkHtml = 'Like what you see? Visit the ' +\n",
              "          '<a target=\"_blank\" href=https://colab.research.google.com/notebooks/data_table.ipynb>data table notebook</a>'\n",
              "          + ' to learn more about interactive tables.';\n",
              "        element.innerHTML = '';\n",
              "        dataTable['output_type'] = 'display_data';\n",
              "        await google.colab.output.renderOutput(dataTable, element);\n",
              "        const docLink = document.createElement('div');\n",
              "        docLink.innerHTML = docLinkHtml;\n",
              "        element.appendChild(docLink);\n",
              "      }\n",
              "    </script>\n",
              "  </div>\n",
              "\n",
              "\n",
              "    <div id=\"df-93ab6c58-cfa9-4f07-a669-b1951af46800\">\n",
              "      <button class=\"colab-df-quickchart\" onclick=\"quickchart('df-93ab6c58-cfa9-4f07-a669-b1951af46800')\"\n",
              "                title=\"Suggest charts\"\n",
              "                style=\"display:none;\">\n",
              "\n",
              "<svg xmlns=\"http://www.w3.org/2000/svg\" height=\"24px\"viewBox=\"0 0 24 24\"\n",
              "     width=\"24px\">\n",
              "    <g>\n",
              "        <path d=\"M19 3H5c-1.1 0-2 .9-2 2v14c0 1.1.9 2 2 2h14c1.1 0 2-.9 2-2V5c0-1.1-.9-2-2-2zM9 17H7v-7h2v7zm4 0h-2V7h2v10zm4 0h-2v-4h2v4z\"/>\n",
              "    </g>\n",
              "</svg>\n",
              "      </button>\n",
              "\n",
              "<style>\n",
              "  .colab-df-quickchart {\n",
              "      --bg-color: #E8F0FE;\n",
              "      --fill-color: #1967D2;\n",
              "      --hover-bg-color: #E2EBFA;\n",
              "      --hover-fill-color: #174EA6;\n",
              "      --disabled-fill-color: #AAA;\n",
              "      --disabled-bg-color: #DDD;\n",
              "  }\n",
              "\n",
              "  [theme=dark] .colab-df-quickchart {\n",
              "      --bg-color: #3B4455;\n",
              "      --fill-color: #D2E3FC;\n",
              "      --hover-bg-color: #434B5C;\n",
              "      --hover-fill-color: #FFFFFF;\n",
              "      --disabled-bg-color: #3B4455;\n",
              "      --disabled-fill-color: #666;\n",
              "  }\n",
              "\n",
              "  .colab-df-quickchart {\n",
              "    background-color: var(--bg-color);\n",
              "    border: none;\n",
              "    border-radius: 50%;\n",
              "    cursor: pointer;\n",
              "    display: none;\n",
              "    fill: var(--fill-color);\n",
              "    height: 32px;\n",
              "    padding: 0;\n",
              "    width: 32px;\n",
              "  }\n",
              "\n",
              "  .colab-df-quickchart:hover {\n",
              "    background-color: var(--hover-bg-color);\n",
              "    box-shadow: 0 1px 2px rgba(60, 64, 67, 0.3), 0 1px 3px 1px rgba(60, 64, 67, 0.15);\n",
              "    fill: var(--button-hover-fill-color);\n",
              "  }\n",
              "\n",
              "  .colab-df-quickchart-complete:disabled,\n",
              "  .colab-df-quickchart-complete:disabled:hover {\n",
              "    background-color: var(--disabled-bg-color);\n",
              "    fill: var(--disabled-fill-color);\n",
              "    box-shadow: none;\n",
              "  }\n",
              "\n",
              "  .colab-df-spinner {\n",
              "    border: 2px solid var(--fill-color);\n",
              "    border-color: transparent;\n",
              "    border-bottom-color: var(--fill-color);\n",
              "    animation:\n",
              "      spin 1s steps(1) infinite;\n",
              "  }\n",
              "\n",
              "  @keyframes spin {\n",
              "    0% {\n",
              "      border-color: transparent;\n",
              "      border-bottom-color: var(--fill-color);\n",
              "      border-left-color: var(--fill-color);\n",
              "    }\n",
              "    20% {\n",
              "      border-color: transparent;\n",
              "      border-left-color: var(--fill-color);\n",
              "      border-top-color: var(--fill-color);\n",
              "    }\n",
              "    30% {\n",
              "      border-color: transparent;\n",
              "      border-left-color: var(--fill-color);\n",
              "      border-top-color: var(--fill-color);\n",
              "      border-right-color: var(--fill-color);\n",
              "    }\n",
              "    40% {\n",
              "      border-color: transparent;\n",
              "      border-right-color: var(--fill-color);\n",
              "      border-top-color: var(--fill-color);\n",
              "    }\n",
              "    60% {\n",
              "      border-color: transparent;\n",
              "      border-right-color: var(--fill-color);\n",
              "    }\n",
              "    80% {\n",
              "      border-color: transparent;\n",
              "      border-right-color: var(--fill-color);\n",
              "      border-bottom-color: var(--fill-color);\n",
              "    }\n",
              "    90% {\n",
              "      border-color: transparent;\n",
              "      border-bottom-color: var(--fill-color);\n",
              "    }\n",
              "  }\n",
              "</style>\n",
              "\n",
              "      <script>\n",
              "        async function quickchart(key) {\n",
              "          const quickchartButtonEl =\n",
              "            document.querySelector('#' + key + ' button');\n",
              "          quickchartButtonEl.disabled = true;  // To prevent multiple clicks.\n",
              "          quickchartButtonEl.classList.add('colab-df-spinner');\n",
              "          try {\n",
              "            const charts = await google.colab.kernel.invokeFunction(\n",
              "                'suggestCharts', [key], {});\n",
              "          } catch (error) {\n",
              "            console.error('Error during call to suggestCharts:', error);\n",
              "          }\n",
              "          quickchartButtonEl.classList.remove('colab-df-spinner');\n",
              "          quickchartButtonEl.classList.add('colab-df-quickchart-complete');\n",
              "        }\n",
              "        (() => {\n",
              "          let quickchartButtonEl =\n",
              "            document.querySelector('#df-93ab6c58-cfa9-4f07-a669-b1951af46800 button');\n",
              "          quickchartButtonEl.style.display =\n",
              "            google.colab.kernel.accessAllowed ? 'block' : 'none';\n",
              "        })();\n",
              "      </script>\n",
              "    </div>\n",
              "\n",
              "    </div>\n",
              "  </div>\n"
            ],
            "application/vnd.google.colaboratory.intrinsic+json": {
              "type": "dataframe",
              "variable_name": "names_df",
              "summary": "{\n  \"name\": \"names_df\",\n  \"rows\": 42786,\n  \"fields\": [\n    {\n      \"column\": \"URI\",\n      \"properties\": {\n        \"dtype\": \"string\",\n        \"num_unique_values\": 42786,\n        \"samples\": [\n          \"<http://dbpedia.org/resource/Tom_Bancroft>\",\n          \"<http://dbpedia.org/resource/Bart_Zeller>\",\n          \"<http://dbpedia.org/resource/Caitlin_Morrall>\"\n        ],\n        \"semantic_type\": \"\",\n        \"description\": \"\"\n      }\n    },\n    {\n      \"column\": \"name\",\n      \"properties\": {\n        \"dtype\": \"string\",\n        \"num_unique_values\": 42785,\n        \"samples\": [\n          \"Tom Bancroft\",\n          \"James Holt (scholar)\",\n          \"Chen Tze-chung\"\n        ],\n        \"semantic_type\": \"\",\n        \"description\": \"\"\n      }\n    },\n    {\n      \"column\": \"text\",\n      \"properties\": {\n        \"dtype\": \"string\",\n        \"num_unique_values\": 42786,\n        \"samples\": [\n          \"tom bancroft born 1967 london is a british jazz drummer and composer he began drumming aged seven and started off playing jazz with his father and identical twin brother phil after studying medicine at cambridge university he spent a year studying composition and arranging at mcgill university in montreal canada qualifying as a doctor in 1992 he then worked as a jazz musician and composer supporting his music income with locum work as a hospital doctor until 1998 when he began starting music related companies he is married to singer gina rae and has two children sam and sophie in 2004 he received the creative scotland awardin 1998 he launched caber music with support from the national lottery fund which went on to release over thirty cds over the next seven years to critical acclaim including two bbc jazz awards for best cd and numerous album of the year placings he has subsequently started the company abc creative music with his twin brother phil bancroft which develops creative music education resources which are now being used in more than 500 schools in scotlandas a drummer he has studied with jo morello joey baron and andrew cyrille and played with many musicians including sun ra joakim milder charlie mariano hamiett bluiett liane carroll oliver lake george colligan david berkman tommy smith julian argelles emil vicklicky martin taylor sheila jordan shooglenifty karen mathieson reid anderson billy jenkins bill wells geri allen mr mcfalls chamber and martyn bennetthe is currently the drummer with the dave milligan trio the chick lyall trio and kevin mackenzies vital signs the laura macdonald quartet and octet and plays in an improvising duo with the italian guitarist enzo roccohe is drummer and coleader of trio aab whose first album cold fusion was named an album of 1999 by bbc radio 3 and whose second album wherever i lay my home thats my hat was an album of 2001 in the guardian and picked in a list of 100 essential all time jazz albums by mojo magazine in 2001 they also released stranger things happen at c in 2002 reactivated in 2011 trio aab performed at the delhi jazz festivalas a band leader and composer he has led orchestro interrupto formerly the tom bancroft orchestra a contemporary jazz big band producing the album pieology in 1998 many festival performances a uk tour and a live concert broadcast on bbc radio 3 in 2004 the band toured the uk with geri allen and the tour was broadcast on bbc radio 3 and received five star reviews in the guardian and the scotsman and was voted jazz gig of the year in manchesters city limits and londons time out magazines orchestri interrupto released a cd in 2009 of the music from the geri allen tour with chick lyall on piano entitled the ballad of linda crawford bancroft has also composed for smaller groups including the orange ear ensemble octet and kilt couture a collaboration with french group arfi in 2006 he launched the new tom bancroft 6 pack as well as a spinoff childrens focussed band from the orchestra called kidsamonium which premiered at the gateshead international jazz festival at the sage gateshead and also at the cheltenham jazz festival in 2006 and went on to perform all over europebancrofts compositions have been used in radio film dance television and theatre he has been commissioned by bbc scotland bbc radio 3 glasgow international jazz festival assembly direct birmingham jazz and the national youth jazz orchestra of scotland he has danced in played and composed music for life on the planets surface with kelsey michael and a case for a picnic pt2 tracing houdini and hoops hats acrobats with the choreographer ruby worthhe has led many large scale community and education projects including 150 primary school children performing at the london jazz festival 200 at perth concert hall with classical percussionist colin currie and 100 parents grandparents and children playing drums and percussion at the big stix project at the gateshead jazz festivalbancroft is an active teacher and educator from private drum students to teaching composition and leading big bands he is an apple distinguished educator he has always been active in setting up new ways to promote jazz and improvisation he curated a series of mini festivals for uk and european musicians inside the glasgow jazz festival in the 1990s called clandemonium and europhonium he was active in setting up the scottish jazz federationin 2010 he was musical director of major dance show off kilter which played in major venues across scotland toured scotland with the dave milligan trio and premiered the band of eden malefemale big band to critical acclaimin late 2010 in his role at abc creative music bancroft launched the website abc creative music online to allow scottish schools to teach creative music by smartboard\",\n          \"barton wallace zeller born july 22 1941 is a former professional baseball catcher he played one game in major league baseball in 1970 for the st louis cardinals he recently served as manager of the joliet slammers of the frontier league but was released on september 10 2012zeller was signed by the cardinals in 1963 and spent four years in the cardinals farm system after missing the 1967 season he spent 1968 and 1969 with the lewiston broncs and arkansas travelers respectively zeller played in his only major league game on may 21 1970 against the philadelphia phillies he was inserted to catch the bottom of the ninth inning zeller never had a plate appearance but was credited with one put out on billy mccools strikeout of jim hutto zeller batted and threw righthanded his jersey number was 29 at the time of play he was 6 ft 1 in tall and weighed 185 lbzeller was released as an active player by the cardinals on june 8 but stayed on as a coach for the balance of the 1970 season he played in the minors in 1971 in the milwaukee brewers and new york yankees organizationszeller was the hitting coachthird base coach for the southern illinois miners of the frontier league an independent baseball league zeller began working for the miners in their inaugural 2007 season before coming to the miners zeller spent two seasons with the sioux falls canaries as a bench coach zeller was named as the first manager of slammers in january 2011zeller is currently managing the washington wild things of the frontier league\",\n          \"caitlin shea morrall machol born may 2 1983 is a beauty queen from burlington wisconsin who competed in the 2008 miss usa pageantmorrall who had previously competed in the miss wisconsin america system won the miss wisconsin usa 2007 title in the state pageant held at richland center on 2 september 2006 she competed in the nationally televised miss usa 2007 pageant which was broadcast live from the kodak theatre in hollywood california on march 23 2007 where she placed in top 15 this was the best finish by a contestant from wisconsin in 28 yearsin june 2006 morrall placed first runnerup in the miss wisconsin competition where she competed as miss burlington area chocolatefest she had previously placed 3rd runnerup in 2004 1st runnerup in 2003 and 2nd runnerup in 2002 morrall has held other local titles such as miss racine in 2002 miss milwaukee in 2003 and miss southern wisconsin in 2004 despite being eligible to compete in the miss america system for one more year morrall made the decision to compete in the miss wisconsin usa pageant one week before applications for the pageant closedmorrall is a 2001 graduate of burlington high school wisconsin and is a 2008 graduate of alverno college in milwaukee with a bachelor of arts degree in professional communicationcaitlin is currently the traffic reporter in the morning for wtmjtv 4\"\n        ],\n        \"semantic_type\": \"\",\n        \"description\": \"\"\n      }\n    }\n  ]\n}"
            }
          },
          "metadata": {},
          "execution_count": 6
        }
      ]
    },
    {
      "cell_type": "code",
      "source": [
        "names_df.shape"
      ],
      "metadata": {
        "colab": {
          "base_uri": "https://localhost:8080/"
        },
        "id": "XiNcDbizjLFM",
        "outputId": "ed9e9e84-df5d-4763-83e4-87b24ea61324"
      },
      "execution_count": null,
      "outputs": [
        {
          "output_type": "execute_result",
          "data": {
            "text/plain": [
              "(42786, 3)"
            ]
          },
          "metadata": {},
          "execution_count": 7
        }
      ]
    },
    {
      "cell_type": "code",
      "source": [
        "names_df.info()"
      ],
      "metadata": {
        "colab": {
          "base_uri": "https://localhost:8080/"
        },
        "id": "pyXVSr0-jOlW",
        "outputId": "9437888c-7db4-44fc-bf24-f1fb80481c3b"
      },
      "execution_count": null,
      "outputs": [
        {
          "output_type": "stream",
          "name": "stdout",
          "text": [
            "<class 'pandas.core.frame.DataFrame'>\n",
            "RangeIndex: 42786 entries, 0 to 42785\n",
            "Data columns (total 3 columns):\n",
            " #   Column  Non-Null Count  Dtype \n",
            "---  ------  --------------  ----- \n",
            " 0   URI     42786 non-null  object\n",
            " 1   name    42786 non-null  object\n",
            " 2   text    42786 non-null  object\n",
            "dtypes: object(3)\n",
            "memory usage: 1002.9+ KB\n"
          ]
        }
      ]
    },
    {
      "cell_type": "markdown",
      "source": [
        "no nulls, but it looks like we may have to clean up the names column to only show names in a common format."
      ],
      "metadata": {
        "id": "vUT7XsxdvBZE"
      }
    },
    {
      "cell_type": "markdown",
      "source": [
        "then parse the text for identifying text. filter out common, uninformative words like 'the', 'and' 'it'"
      ],
      "metadata": {
        "id": "PuX7PXh7vjde"
      }
    },
    {
      "cell_type": "markdown",
      "source": [
        "working with AMS csv dataset of famous people. There are 42786 rows and 3 data columns: name, URI, text. The dataset is 1002.9 KB."
      ],
      "metadata": {
        "id": "F2aAwgkFf81C"
      }
    },
    {
      "cell_type": "markdown",
      "source": [
        "## Data Cleaning"
      ],
      "metadata": {
        "id": "IUrzsyIWv04p"
      }
    },
    {
      "cell_type": "markdown",
      "source": [
        "look through names and check to see that all entries are unique"
      ],
      "metadata": {
        "id": "aPfkgP88v8Mg"
      }
    },
    {
      "cell_type": "code",
      "source": [
        "# find repeated names\n",
        "names_df.name.value_counts()"
      ],
      "metadata": {
        "colab": {
          "base_uri": "https://localhost:8080/",
          "height": 490
        },
        "id": "WNdoqkwfv7sA",
        "outputId": "157540b7-5721-4285-965c-2139f998a7a8"
      },
      "execution_count": null,
      "outputs": [
        {
          "output_type": "execute_result",
          "data": {
            "text/plain": [
              "name\n",
              "author)                                2\n",
              "Kate Fodor                             1\n",
              "Kreg Battles                           1\n",
              "Robert Earnshaw                        1\n",
              "Clay Christiansen (organist)           1\n",
              "                                      ..\n",
              "Chet Walker                            1\n",
              "Andreas Vanpoucke                      1\n",
              "Jill Robinson                          1\n",
              "Luke Parker (Australian footballer)    1\n",
              "Bradley A. Buckles                     1\n",
              "Name: count, Length: 42785, dtype: int64"
            ],
            "text/html": [
              "<div>\n",
              "<style scoped>\n",
              "    .dataframe tbody tr th:only-of-type {\n",
              "        vertical-align: middle;\n",
              "    }\n",
              "\n",
              "    .dataframe tbody tr th {\n",
              "        vertical-align: top;\n",
              "    }\n",
              "\n",
              "    .dataframe thead th {\n",
              "        text-align: right;\n",
              "    }\n",
              "</style>\n",
              "<table border=\"1\" class=\"dataframe\">\n",
              "  <thead>\n",
              "    <tr style=\"text-align: right;\">\n",
              "      <th></th>\n",
              "      <th>count</th>\n",
              "    </tr>\n",
              "    <tr>\n",
              "      <th>name</th>\n",
              "      <th></th>\n",
              "    </tr>\n",
              "  </thead>\n",
              "  <tbody>\n",
              "    <tr>\n",
              "      <th>author)</th>\n",
              "      <td>2</td>\n",
              "    </tr>\n",
              "    <tr>\n",
              "      <th>Kate Fodor</th>\n",
              "      <td>1</td>\n",
              "    </tr>\n",
              "    <tr>\n",
              "      <th>Kreg Battles</th>\n",
              "      <td>1</td>\n",
              "    </tr>\n",
              "    <tr>\n",
              "      <th>Robert Earnshaw</th>\n",
              "      <td>1</td>\n",
              "    </tr>\n",
              "    <tr>\n",
              "      <th>Clay Christiansen (organist)</th>\n",
              "      <td>1</td>\n",
              "    </tr>\n",
              "    <tr>\n",
              "      <th>...</th>\n",
              "      <td>...</td>\n",
              "    </tr>\n",
              "    <tr>\n",
              "      <th>Chet Walker</th>\n",
              "      <td>1</td>\n",
              "    </tr>\n",
              "    <tr>\n",
              "      <th>Andreas Vanpoucke</th>\n",
              "      <td>1</td>\n",
              "    </tr>\n",
              "    <tr>\n",
              "      <th>Jill Robinson</th>\n",
              "      <td>1</td>\n",
              "    </tr>\n",
              "    <tr>\n",
              "      <th>Luke Parker (Australian footballer)</th>\n",
              "      <td>1</td>\n",
              "    </tr>\n",
              "    <tr>\n",
              "      <th>Bradley A. Buckles</th>\n",
              "      <td>1</td>\n",
              "    </tr>\n",
              "  </tbody>\n",
              "</table>\n",
              "<p>42785 rows × 1 columns</p>\n",
              "</div><br><label><b>dtype:</b> int64</label>"
            ]
          },
          "metadata": {},
          "execution_count": 9
        }
      ]
    },
    {
      "cell_type": "markdown",
      "source": [
        "weird that there is a repeated name, and that some names have information about the person. I may split these info nuggets into a new column later. Let's look at that repeat right now."
      ],
      "metadata": {
        "id": "FzNNzapXwV3W"
      }
    },
    {
      "cell_type": "code",
      "source": [
        "# look at the two instances of 'author)'\n",
        "names_df[names_df.name == 'author)']"
      ],
      "metadata": {
        "id": "p6v9wgiqjPvS",
        "colab": {
          "base_uri": "https://localhost:8080/",
          "height": 112
        },
        "outputId": "c5620e23-eb32-4871-a84f-bc693e7b1b29"
      },
      "execution_count": null,
      "outputs": [
        {
          "output_type": "execute_result",
          "data": {
            "text/plain": [
              "                                                     URI     name  \\\n",
              "787    <http://dbpedia.org/resource/James_Grieve_(tra...  author)   \n",
              "17249  <http://dbpedia.org/resource/Steve_Greenberg_(...  author)   \n",
              "\n",
              "                                                    text  \n",
              "787    james grieve born 1934 is an australian transl...  \n",
              "17249  steve greenberg december 20 1960 is an america...  "
            ],
            "text/html": [
              "\n",
              "  <div id=\"df-60e90aff-415b-4468-8489-728f2b14b10c\" class=\"colab-df-container\">\n",
              "    <div>\n",
              "<style scoped>\n",
              "    .dataframe tbody tr th:only-of-type {\n",
              "        vertical-align: middle;\n",
              "    }\n",
              "\n",
              "    .dataframe tbody tr th {\n",
              "        vertical-align: top;\n",
              "    }\n",
              "\n",
              "    .dataframe thead th {\n",
              "        text-align: right;\n",
              "    }\n",
              "</style>\n",
              "<table border=\"1\" class=\"dataframe\">\n",
              "  <thead>\n",
              "    <tr style=\"text-align: right;\">\n",
              "      <th></th>\n",
              "      <th>URI</th>\n",
              "      <th>name</th>\n",
              "      <th>text</th>\n",
              "    </tr>\n",
              "  </thead>\n",
              "  <tbody>\n",
              "    <tr>\n",
              "      <th>787</th>\n",
              "      <td>&lt;http://dbpedia.org/resource/James_Grieve_(tra...</td>\n",
              "      <td>author)</td>\n",
              "      <td>james grieve born 1934 is an australian transl...</td>\n",
              "    </tr>\n",
              "    <tr>\n",
              "      <th>17249</th>\n",
              "      <td>&lt;http://dbpedia.org/resource/Steve_Greenberg_(...</td>\n",
              "      <td>author)</td>\n",
              "      <td>steve greenberg december 20 1960 is an america...</td>\n",
              "    </tr>\n",
              "  </tbody>\n",
              "</table>\n",
              "</div>\n",
              "    <div class=\"colab-df-buttons\">\n",
              "\n",
              "  <div class=\"colab-df-container\">\n",
              "    <button class=\"colab-df-convert\" onclick=\"convertToInteractive('df-60e90aff-415b-4468-8489-728f2b14b10c')\"\n",
              "            title=\"Convert this dataframe to an interactive table.\"\n",
              "            style=\"display:none;\">\n",
              "\n",
              "  <svg xmlns=\"http://www.w3.org/2000/svg\" height=\"24px\" viewBox=\"0 -960 960 960\">\n",
              "    <path d=\"M120-120v-720h720v720H120Zm60-500h600v-160H180v160Zm220 220h160v-160H400v160Zm0 220h160v-160H400v160ZM180-400h160v-160H180v160Zm440 0h160v-160H620v160ZM180-180h160v-160H180v160Zm440 0h160v-160H620v160Z\"/>\n",
              "  </svg>\n",
              "    </button>\n",
              "\n",
              "  <style>\n",
              "    .colab-df-container {\n",
              "      display:flex;\n",
              "      gap: 12px;\n",
              "    }\n",
              "\n",
              "    .colab-df-convert {\n",
              "      background-color: #E8F0FE;\n",
              "      border: none;\n",
              "      border-radius: 50%;\n",
              "      cursor: pointer;\n",
              "      display: none;\n",
              "      fill: #1967D2;\n",
              "      height: 32px;\n",
              "      padding: 0 0 0 0;\n",
              "      width: 32px;\n",
              "    }\n",
              "\n",
              "    .colab-df-convert:hover {\n",
              "      background-color: #E2EBFA;\n",
              "      box-shadow: 0px 1px 2px rgba(60, 64, 67, 0.3), 0px 1px 3px 1px rgba(60, 64, 67, 0.15);\n",
              "      fill: #174EA6;\n",
              "    }\n",
              "\n",
              "    .colab-df-buttons div {\n",
              "      margin-bottom: 4px;\n",
              "    }\n",
              "\n",
              "    [theme=dark] .colab-df-convert {\n",
              "      background-color: #3B4455;\n",
              "      fill: #D2E3FC;\n",
              "    }\n",
              "\n",
              "    [theme=dark] .colab-df-convert:hover {\n",
              "      background-color: #434B5C;\n",
              "      box-shadow: 0px 1px 3px 1px rgba(0, 0, 0, 0.15);\n",
              "      filter: drop-shadow(0px 1px 2px rgba(0, 0, 0, 0.3));\n",
              "      fill: #FFFFFF;\n",
              "    }\n",
              "  </style>\n",
              "\n",
              "    <script>\n",
              "      const buttonEl =\n",
              "        document.querySelector('#df-60e90aff-415b-4468-8489-728f2b14b10c button.colab-df-convert');\n",
              "      buttonEl.style.display =\n",
              "        google.colab.kernel.accessAllowed ? 'block' : 'none';\n",
              "\n",
              "      async function convertToInteractive(key) {\n",
              "        const element = document.querySelector('#df-60e90aff-415b-4468-8489-728f2b14b10c');\n",
              "        const dataTable =\n",
              "          await google.colab.kernel.invokeFunction('convertToInteractive',\n",
              "                                                    [key], {});\n",
              "        if (!dataTable) return;\n",
              "\n",
              "        const docLinkHtml = 'Like what you see? Visit the ' +\n",
              "          '<a target=\"_blank\" href=https://colab.research.google.com/notebooks/data_table.ipynb>data table notebook</a>'\n",
              "          + ' to learn more about interactive tables.';\n",
              "        element.innerHTML = '';\n",
              "        dataTable['output_type'] = 'display_data';\n",
              "        await google.colab.output.renderOutput(dataTable, element);\n",
              "        const docLink = document.createElement('div');\n",
              "        docLink.innerHTML = docLinkHtml;\n",
              "        element.appendChild(docLink);\n",
              "      }\n",
              "    </script>\n",
              "  </div>\n",
              "\n",
              "\n",
              "    <div id=\"df-98ff8c7a-99c3-4fef-88fa-58b59a73b688\">\n",
              "      <button class=\"colab-df-quickchart\" onclick=\"quickchart('df-98ff8c7a-99c3-4fef-88fa-58b59a73b688')\"\n",
              "                title=\"Suggest charts\"\n",
              "                style=\"display:none;\">\n",
              "\n",
              "<svg xmlns=\"http://www.w3.org/2000/svg\" height=\"24px\"viewBox=\"0 0 24 24\"\n",
              "     width=\"24px\">\n",
              "    <g>\n",
              "        <path d=\"M19 3H5c-1.1 0-2 .9-2 2v14c0 1.1.9 2 2 2h14c1.1 0 2-.9 2-2V5c0-1.1-.9-2-2-2zM9 17H7v-7h2v7zm4 0h-2V7h2v10zm4 0h-2v-4h2v4z\"/>\n",
              "    </g>\n",
              "</svg>\n",
              "      </button>\n",
              "\n",
              "<style>\n",
              "  .colab-df-quickchart {\n",
              "      --bg-color: #E8F0FE;\n",
              "      --fill-color: #1967D2;\n",
              "      --hover-bg-color: #E2EBFA;\n",
              "      --hover-fill-color: #174EA6;\n",
              "      --disabled-fill-color: #AAA;\n",
              "      --disabled-bg-color: #DDD;\n",
              "  }\n",
              "\n",
              "  [theme=dark] .colab-df-quickchart {\n",
              "      --bg-color: #3B4455;\n",
              "      --fill-color: #D2E3FC;\n",
              "      --hover-bg-color: #434B5C;\n",
              "      --hover-fill-color: #FFFFFF;\n",
              "      --disabled-bg-color: #3B4455;\n",
              "      --disabled-fill-color: #666;\n",
              "  }\n",
              "\n",
              "  .colab-df-quickchart {\n",
              "    background-color: var(--bg-color);\n",
              "    border: none;\n",
              "    border-radius: 50%;\n",
              "    cursor: pointer;\n",
              "    display: none;\n",
              "    fill: var(--fill-color);\n",
              "    height: 32px;\n",
              "    padding: 0;\n",
              "    width: 32px;\n",
              "  }\n",
              "\n",
              "  .colab-df-quickchart:hover {\n",
              "    background-color: var(--hover-bg-color);\n",
              "    box-shadow: 0 1px 2px rgba(60, 64, 67, 0.3), 0 1px 3px 1px rgba(60, 64, 67, 0.15);\n",
              "    fill: var(--button-hover-fill-color);\n",
              "  }\n",
              "\n",
              "  .colab-df-quickchart-complete:disabled,\n",
              "  .colab-df-quickchart-complete:disabled:hover {\n",
              "    background-color: var(--disabled-bg-color);\n",
              "    fill: var(--disabled-fill-color);\n",
              "    box-shadow: none;\n",
              "  }\n",
              "\n",
              "  .colab-df-spinner {\n",
              "    border: 2px solid var(--fill-color);\n",
              "    border-color: transparent;\n",
              "    border-bottom-color: var(--fill-color);\n",
              "    animation:\n",
              "      spin 1s steps(1) infinite;\n",
              "  }\n",
              "\n",
              "  @keyframes spin {\n",
              "    0% {\n",
              "      border-color: transparent;\n",
              "      border-bottom-color: var(--fill-color);\n",
              "      border-left-color: var(--fill-color);\n",
              "    }\n",
              "    20% {\n",
              "      border-color: transparent;\n",
              "      border-left-color: var(--fill-color);\n",
              "      border-top-color: var(--fill-color);\n",
              "    }\n",
              "    30% {\n",
              "      border-color: transparent;\n",
              "      border-left-color: var(--fill-color);\n",
              "      border-top-color: var(--fill-color);\n",
              "      border-right-color: var(--fill-color);\n",
              "    }\n",
              "    40% {\n",
              "      border-color: transparent;\n",
              "      border-right-color: var(--fill-color);\n",
              "      border-top-color: var(--fill-color);\n",
              "    }\n",
              "    60% {\n",
              "      border-color: transparent;\n",
              "      border-right-color: var(--fill-color);\n",
              "    }\n",
              "    80% {\n",
              "      border-color: transparent;\n",
              "      border-right-color: var(--fill-color);\n",
              "      border-bottom-color: var(--fill-color);\n",
              "    }\n",
              "    90% {\n",
              "      border-color: transparent;\n",
              "      border-bottom-color: var(--fill-color);\n",
              "    }\n",
              "  }\n",
              "</style>\n",
              "\n",
              "      <script>\n",
              "        async function quickchart(key) {\n",
              "          const quickchartButtonEl =\n",
              "            document.querySelector('#' + key + ' button');\n",
              "          quickchartButtonEl.disabled = true;  // To prevent multiple clicks.\n",
              "          quickchartButtonEl.classList.add('colab-df-spinner');\n",
              "          try {\n",
              "            const charts = await google.colab.kernel.invokeFunction(\n",
              "                'suggestCharts', [key], {});\n",
              "          } catch (error) {\n",
              "            console.error('Error during call to suggestCharts:', error);\n",
              "          }\n",
              "          quickchartButtonEl.classList.remove('colab-df-spinner');\n",
              "          quickchartButtonEl.classList.add('colab-df-quickchart-complete');\n",
              "        }\n",
              "        (() => {\n",
              "          let quickchartButtonEl =\n",
              "            document.querySelector('#df-98ff8c7a-99c3-4fef-88fa-58b59a73b688 button');\n",
              "          quickchartButtonEl.style.display =\n",
              "            google.colab.kernel.accessAllowed ? 'block' : 'none';\n",
              "        })();\n",
              "      </script>\n",
              "    </div>\n",
              "\n",
              "    </div>\n",
              "  </div>\n"
            ],
            "application/vnd.google.colaboratory.intrinsic+json": {
              "type": "dataframe",
              "summary": "{\n  \"name\": \"names_df[names_df\",\n  \"rows\": 2,\n  \"fields\": [\n    {\n      \"column\": \"URI\",\n      \"properties\": {\n        \"dtype\": \"string\",\n        \"num_unique_values\": 2,\n        \"samples\": [\n          \"<http://dbpedia.org/resource/Steve_Greenberg_(TV_personality/author)>\",\n          \"<http://dbpedia.org/resource/James_Grieve_(translator/author)>\"\n        ],\n        \"semantic_type\": \"\",\n        \"description\": \"\"\n      }\n    },\n    {\n      \"column\": \"name\",\n      \"properties\": {\n        \"dtype\": \"string\",\n        \"num_unique_values\": 1,\n        \"samples\": [\n          \"author)\"\n        ],\n        \"semantic_type\": \"\",\n        \"description\": \"\"\n      }\n    },\n    {\n      \"column\": \"text\",\n      \"properties\": {\n        \"dtype\": \"string\",\n        \"num_unique_values\": 2,\n        \"samples\": [\n          \"steve greenberg december 20 1960 is an american national tv personality dubbed the innovation insider who showcases gadgets inventions and other innovative products greenberg is also the author of gadget nation a journey through the eccentric world of invention the book that features more than 100 offbeat gadgets and the inventors behind them he was born in paterson new jersey and currently lives in miami floridagreenbergs innovation insights are routinely featured both inprint and oncamera he can be seen on national television shows including nbcs today show cbss early show abcs world news this morning and world news now and foxs fox friends his innovation insider features appear in publications including the miami herald air currents magazine rooms magazine smart homeowner magazine backyard living log home living and hometoyscom for three years greenberg could be seen every weeknight demonstrating innovative products on the discovery channels your new house and for six years he traveled the country showcasing the latest in home design construction and trends on hgtvs dream builders for five years hgtv used greenbergs reporting skills for coverage of the hottest new home improvement products at nahbs international builders show greenberg has also been a judge for hammacher schlemmers search for invention contestbefore he made his beat innovation greenberg was a fulltime television news reporter while working at the cbsowned station wfortv in miami he traveled to cuba five times covered hurricane andrew followed hurricane emily to the carolinas and reported stories in mexico honduras the bahamas and around the us greenbergs reports have been seen on cbss morning newscast and routinely on cbss national news feed servicegreenberg has been honored with 12 emmy awards he has received the highest broadcast national award from the american heart association and he has received special recognition from the florida medical association for his coverage of the hiv haitians detained at cubas guantanamo bay naval base greenberg also took first place in the sunshine state awards for feature reporting his educational kids programs doc steves amazing science seekers baby animals mammals more and gators crocs other yucky swamp creatures have all received numerous honors and endorsements from teacherparent organizationsgreenberg currently cohosts the food network series invention hunters with partnercohost patrick raymond\"\n        ],\n        \"semantic_type\": \"\",\n        \"description\": \"\"\n      }\n    }\n  ]\n}"
            }
          },
          "metadata": {},
          "execution_count": 10
        }
      ]
    },
    {
      "cell_type": "markdown",
      "source": [
        "I'll fix these two entries to have the names listed within the URI."
      ],
      "metadata": {
        "id": "dIZV6B9Dxs5N"
      }
    },
    {
      "cell_type": "code",
      "source": [
        "# input name for row 787 to be 'James Grieve'\n",
        "names_df.loc[787, 'name'] = 'James Grieve'\n",
        "\n",
        "# input name for row 17249 to be 'Steve Greenburg'\n",
        "names_df.loc[17249, 'name'] = 'Steve Greenburg'"
      ],
      "metadata": {
        "id": "Y1Ekb8IYxT7R"
      },
      "execution_count": null,
      "outputs": []
    },
    {
      "cell_type": "code",
      "source": [
        "names_df.name.value_counts()"
      ],
      "metadata": {
        "colab": {
          "base_uri": "https://localhost:8080/",
          "height": 490
        },
        "id": "2h_ZrfnlyPs0",
        "outputId": "a4c7696a-fa9c-46ac-b58f-352fa0d98873"
      },
      "execution_count": null,
      "outputs": [
        {
          "output_type": "execute_result",
          "data": {
            "text/plain": [
              "name\n",
              "Kenneth Thomas         1\n",
              "Digby Morrell          1\n",
              "Luke Walsh             1\n",
              "Rachel Mackley         1\n",
              "Martin Lee (tennis)    1\n",
              "                      ..\n",
              "Aaron LaCrate          1\n",
              "Sam Henderson          1\n",
              "G-Enka                 1\n",
              "Franz Rottensteiner    1\n",
              "Harpdog Brown          1\n",
              "Name: count, Length: 42786, dtype: int64"
            ],
            "text/html": [
              "<div>\n",
              "<style scoped>\n",
              "    .dataframe tbody tr th:only-of-type {\n",
              "        vertical-align: middle;\n",
              "    }\n",
              "\n",
              "    .dataframe tbody tr th {\n",
              "        vertical-align: top;\n",
              "    }\n",
              "\n",
              "    .dataframe thead th {\n",
              "        text-align: right;\n",
              "    }\n",
              "</style>\n",
              "<table border=\"1\" class=\"dataframe\">\n",
              "  <thead>\n",
              "    <tr style=\"text-align: right;\">\n",
              "      <th></th>\n",
              "      <th>count</th>\n",
              "    </tr>\n",
              "    <tr>\n",
              "      <th>name</th>\n",
              "      <th></th>\n",
              "    </tr>\n",
              "  </thead>\n",
              "  <tbody>\n",
              "    <tr>\n",
              "      <th>Kenneth Thomas</th>\n",
              "      <td>1</td>\n",
              "    </tr>\n",
              "    <tr>\n",
              "      <th>Digby Morrell</th>\n",
              "      <td>1</td>\n",
              "    </tr>\n",
              "    <tr>\n",
              "      <th>Luke Walsh</th>\n",
              "      <td>1</td>\n",
              "    </tr>\n",
              "    <tr>\n",
              "      <th>Rachel Mackley</th>\n",
              "      <td>1</td>\n",
              "    </tr>\n",
              "    <tr>\n",
              "      <th>Martin Lee (tennis)</th>\n",
              "      <td>1</td>\n",
              "    </tr>\n",
              "    <tr>\n",
              "      <th>...</th>\n",
              "      <td>...</td>\n",
              "    </tr>\n",
              "    <tr>\n",
              "      <th>Aaron LaCrate</th>\n",
              "      <td>1</td>\n",
              "    </tr>\n",
              "    <tr>\n",
              "      <th>Sam Henderson</th>\n",
              "      <td>1</td>\n",
              "    </tr>\n",
              "    <tr>\n",
              "      <th>G-Enka</th>\n",
              "      <td>1</td>\n",
              "    </tr>\n",
              "    <tr>\n",
              "      <th>Franz Rottensteiner</th>\n",
              "      <td>1</td>\n",
              "    </tr>\n",
              "    <tr>\n",
              "      <th>Harpdog Brown</th>\n",
              "      <td>1</td>\n",
              "    </tr>\n",
              "  </tbody>\n",
              "</table>\n",
              "<p>42786 rows × 1 columns</p>\n",
              "</div><br><label><b>dtype:</b> int64</label>"
            ]
          },
          "metadata": {},
          "execution_count": 12
        }
      ]
    },
    {
      "cell_type": "code",
      "source": [
        "# place info nugget into new column\n",
        "for index, row in names_df.iterrows():\n",
        "  if '(' in row['name']:\n",
        "    names_df.loc[index, 'info_nugget'] = row['name'].split('(')[1].split(')')[0]\n",
        "    names_df.loc[index, 'name'] = row['name'].split('(')[0]\n",
        "  else:\n",
        "    names_df.loc[index, 'info_nugget'] = 'tbd'\n",
        "\n",
        "names_df.head(25)"
      ],
      "metadata": {
        "colab": {
          "base_uri": "https://localhost:8080/",
          "height": 833
        },
        "id": "vlUdIMfdySsB",
        "outputId": "17e53467-36fd-4432-ca8b-9d48128fba5c"
      },
      "execution_count": null,
      "outputs": [
        {
          "output_type": "execute_result",
          "data": {
            "text/plain": [
              "                                                  URI  \\\n",
              "0         <http://dbpedia.org/resource/Digby_Morrell>   \n",
              "1        <http://dbpedia.org/resource/Alfred_J._Lewy>   \n",
              "2         <http://dbpedia.org/resource/Harpdog_Brown>   \n",
              "3   <http://dbpedia.org/resource/Franz_Rottensteiner>   \n",
              "4                <http://dbpedia.org/resource/G-Enka>   \n",
              "5         <http://dbpedia.org/resource/Sam_Henderson>   \n",
              "6         <http://dbpedia.org/resource/Aaron_LaCrate>   \n",
              "7       <http://dbpedia.org/resource/Trevor_Ferguson>   \n",
              "8          <http://dbpedia.org/resource/Grant_Nelson>   \n",
              "9          <http://dbpedia.org/resource/Cathy_Caruth>   \n",
              "10         <http://dbpedia.org/resource/Sophie_Crumb>   \n",
              "11        <http://dbpedia.org/resource/Jenn_Ashworth>   \n",
              "12     <http://dbpedia.org/resource/Jonathan_Hoefler>   \n",
              "13  <http://dbpedia.org/resource/Anthony_Gueterboc...   \n",
              "14   <http://dbpedia.org/resource/David_Chernushenko>   \n",
              "15       <http://dbpedia.org/resource/Joerg_Steineck>   \n",
              "16       <http://dbpedia.org/resource/Andrew_Pinsent>   \n",
              "17  <http://dbpedia.org/resource/Paddy_Dunne_(Gael...   \n",
              "18    <http://dbpedia.org/resource/Alexandros_Mouzas>   \n",
              "19  <http://dbpedia.org/resource/John_Angus_Campbell>   \n",
              "20       <http://dbpedia.org/resource/Chris_Batstone>   \n",
              "21        <http://dbpedia.org/resource/Ceiron_Thomas>   \n",
              "22         <http://dbpedia.org/resource/Adel_Sellimi>   \n",
              "23        <http://dbpedia.org/resource/Faith_Soloway>   \n",
              "24         <http://dbpedia.org/resource/Tom_Jennings>   \n",
              "\n",
              "                                       name  \\\n",
              "0                             Digby Morrell   \n",
              "1                            Alfred J. Lewy   \n",
              "2                             Harpdog Brown   \n",
              "3                       Franz Rottensteiner   \n",
              "4                                    G-Enka   \n",
              "5                             Sam Henderson   \n",
              "6                             Aaron LaCrate   \n",
              "7                           Trevor Ferguson   \n",
              "8                              Grant Nelson   \n",
              "9                              Cathy Caruth   \n",
              "10                             Sophie Crumb   \n",
              "11                            Jenn Ashworth   \n",
              "12                         Jonathan Hoefler   \n",
              "13  Anthony Gueterbock, 18th Baron Berkeley   \n",
              "14                       David Chernushenko   \n",
              "15                           Joerg Steineck   \n",
              "16                           Andrew Pinsent   \n",
              "17                             Paddy Dunne    \n",
              "18                        Alexandros Mouzas   \n",
              "19                      John Angus Campbell   \n",
              "20                           Chris Batstone   \n",
              "21                            Ceiron Thomas   \n",
              "22                             Adel Sellimi   \n",
              "23                            Faith Soloway   \n",
              "24                             Tom Jennings   \n",
              "\n",
              "                                                 text        info_nugget  \n",
              "0   digby morrell born 10 october 1979 is a former...                tbd  \n",
              "1   alfred j lewy aka sandy lewy graduated from un...                tbd  \n",
              "2   harpdog brown is a singer and harmonica player...                tbd  \n",
              "3   franz rottensteiner born in waidmannsfeld lowe...                tbd  \n",
              "4   henry krvits born 30 december 1974 in tallinn ...                tbd  \n",
              "5   sam henderson born october 18 1969 is an ameri...                tbd  \n",
              "6   aaron lacrate is an american music producer re...                tbd  \n",
              "7   trevor ferguson aka john farrow born 11 novemb...                tbd  \n",
              "8   grant nelson born 27 april 1971 in london also...                tbd  \n",
              "9   cathy caruth born 1955 is frank h t rhodes pro...                tbd  \n",
              "10  sophia violet sophie crumb born september 27 1...                tbd  \n",
              "11  jenn ashworth is an english writer she was bor...                tbd  \n",
              "12  jonathan hoefler born august 22 1970 is an ame...                tbd  \n",
              "13  anthony fitzhardinge gueterbock 18th baron ber...                tbd  \n",
              "14  david chernushenko born june 1963 in calgary a...                tbd  \n",
              "15  joerg steineck is a german filmmaker editor an...                tbd  \n",
              "16  fr andrew pinsent born 19 august 1966 is resea...                tbd  \n",
              "17  paddy dunne was a gaelic football player from ...  Gaelic footballer  \n",
              "18  alexandros mouzas born 1962 is a greek compose...                tbd  \n",
              "19  john angus campbell born march 10 1942 in port...                tbd  \n",
              "20  chris batstone was the 20002002 lead singer of...                tbd  \n",
              "21  ceiron thomas born 23 october 1983 is a welsh ...                tbd  \n",
              "22  adel sellimi arabic was born on 16 november 19...                tbd  \n",
              "23  faith soloway born march 28 1964 is an america...                tbd  \n",
              "24  tom jennings born 1955 as thomas daniel jennin...                tbd  "
            ],
            "text/html": [
              "\n",
              "  <div id=\"df-579c2107-0337-4675-b279-3558dddedac9\" class=\"colab-df-container\">\n",
              "    <div>\n",
              "<style scoped>\n",
              "    .dataframe tbody tr th:only-of-type {\n",
              "        vertical-align: middle;\n",
              "    }\n",
              "\n",
              "    .dataframe tbody tr th {\n",
              "        vertical-align: top;\n",
              "    }\n",
              "\n",
              "    .dataframe thead th {\n",
              "        text-align: right;\n",
              "    }\n",
              "</style>\n",
              "<table border=\"1\" class=\"dataframe\">\n",
              "  <thead>\n",
              "    <tr style=\"text-align: right;\">\n",
              "      <th></th>\n",
              "      <th>URI</th>\n",
              "      <th>name</th>\n",
              "      <th>text</th>\n",
              "      <th>info_nugget</th>\n",
              "    </tr>\n",
              "  </thead>\n",
              "  <tbody>\n",
              "    <tr>\n",
              "      <th>0</th>\n",
              "      <td>&lt;http://dbpedia.org/resource/Digby_Morrell&gt;</td>\n",
              "      <td>Digby Morrell</td>\n",
              "      <td>digby morrell born 10 october 1979 is a former...</td>\n",
              "      <td>tbd</td>\n",
              "    </tr>\n",
              "    <tr>\n",
              "      <th>1</th>\n",
              "      <td>&lt;http://dbpedia.org/resource/Alfred_J._Lewy&gt;</td>\n",
              "      <td>Alfred J. Lewy</td>\n",
              "      <td>alfred j lewy aka sandy lewy graduated from un...</td>\n",
              "      <td>tbd</td>\n",
              "    </tr>\n",
              "    <tr>\n",
              "      <th>2</th>\n",
              "      <td>&lt;http://dbpedia.org/resource/Harpdog_Brown&gt;</td>\n",
              "      <td>Harpdog Brown</td>\n",
              "      <td>harpdog brown is a singer and harmonica player...</td>\n",
              "      <td>tbd</td>\n",
              "    </tr>\n",
              "    <tr>\n",
              "      <th>3</th>\n",
              "      <td>&lt;http://dbpedia.org/resource/Franz_Rottensteiner&gt;</td>\n",
              "      <td>Franz Rottensteiner</td>\n",
              "      <td>franz rottensteiner born in waidmannsfeld lowe...</td>\n",
              "      <td>tbd</td>\n",
              "    </tr>\n",
              "    <tr>\n",
              "      <th>4</th>\n",
              "      <td>&lt;http://dbpedia.org/resource/G-Enka&gt;</td>\n",
              "      <td>G-Enka</td>\n",
              "      <td>henry krvits born 30 december 1974 in tallinn ...</td>\n",
              "      <td>tbd</td>\n",
              "    </tr>\n",
              "    <tr>\n",
              "      <th>5</th>\n",
              "      <td>&lt;http://dbpedia.org/resource/Sam_Henderson&gt;</td>\n",
              "      <td>Sam Henderson</td>\n",
              "      <td>sam henderson born october 18 1969 is an ameri...</td>\n",
              "      <td>tbd</td>\n",
              "    </tr>\n",
              "    <tr>\n",
              "      <th>6</th>\n",
              "      <td>&lt;http://dbpedia.org/resource/Aaron_LaCrate&gt;</td>\n",
              "      <td>Aaron LaCrate</td>\n",
              "      <td>aaron lacrate is an american music producer re...</td>\n",
              "      <td>tbd</td>\n",
              "    </tr>\n",
              "    <tr>\n",
              "      <th>7</th>\n",
              "      <td>&lt;http://dbpedia.org/resource/Trevor_Ferguson&gt;</td>\n",
              "      <td>Trevor Ferguson</td>\n",
              "      <td>trevor ferguson aka john farrow born 11 novemb...</td>\n",
              "      <td>tbd</td>\n",
              "    </tr>\n",
              "    <tr>\n",
              "      <th>8</th>\n",
              "      <td>&lt;http://dbpedia.org/resource/Grant_Nelson&gt;</td>\n",
              "      <td>Grant Nelson</td>\n",
              "      <td>grant nelson born 27 april 1971 in london also...</td>\n",
              "      <td>tbd</td>\n",
              "    </tr>\n",
              "    <tr>\n",
              "      <th>9</th>\n",
              "      <td>&lt;http://dbpedia.org/resource/Cathy_Caruth&gt;</td>\n",
              "      <td>Cathy Caruth</td>\n",
              "      <td>cathy caruth born 1955 is frank h t rhodes pro...</td>\n",
              "      <td>tbd</td>\n",
              "    </tr>\n",
              "    <tr>\n",
              "      <th>10</th>\n",
              "      <td>&lt;http://dbpedia.org/resource/Sophie_Crumb&gt;</td>\n",
              "      <td>Sophie Crumb</td>\n",
              "      <td>sophia violet sophie crumb born september 27 1...</td>\n",
              "      <td>tbd</td>\n",
              "    </tr>\n",
              "    <tr>\n",
              "      <th>11</th>\n",
              "      <td>&lt;http://dbpedia.org/resource/Jenn_Ashworth&gt;</td>\n",
              "      <td>Jenn Ashworth</td>\n",
              "      <td>jenn ashworth is an english writer she was bor...</td>\n",
              "      <td>tbd</td>\n",
              "    </tr>\n",
              "    <tr>\n",
              "      <th>12</th>\n",
              "      <td>&lt;http://dbpedia.org/resource/Jonathan_Hoefler&gt;</td>\n",
              "      <td>Jonathan Hoefler</td>\n",
              "      <td>jonathan hoefler born august 22 1970 is an ame...</td>\n",
              "      <td>tbd</td>\n",
              "    </tr>\n",
              "    <tr>\n",
              "      <th>13</th>\n",
              "      <td>&lt;http://dbpedia.org/resource/Anthony_Gueterboc...</td>\n",
              "      <td>Anthony Gueterbock, 18th Baron Berkeley</td>\n",
              "      <td>anthony fitzhardinge gueterbock 18th baron ber...</td>\n",
              "      <td>tbd</td>\n",
              "    </tr>\n",
              "    <tr>\n",
              "      <th>14</th>\n",
              "      <td>&lt;http://dbpedia.org/resource/David_Chernushenko&gt;</td>\n",
              "      <td>David Chernushenko</td>\n",
              "      <td>david chernushenko born june 1963 in calgary a...</td>\n",
              "      <td>tbd</td>\n",
              "    </tr>\n",
              "    <tr>\n",
              "      <th>15</th>\n",
              "      <td>&lt;http://dbpedia.org/resource/Joerg_Steineck&gt;</td>\n",
              "      <td>Joerg Steineck</td>\n",
              "      <td>joerg steineck is a german filmmaker editor an...</td>\n",
              "      <td>tbd</td>\n",
              "    </tr>\n",
              "    <tr>\n",
              "      <th>16</th>\n",
              "      <td>&lt;http://dbpedia.org/resource/Andrew_Pinsent&gt;</td>\n",
              "      <td>Andrew Pinsent</td>\n",
              "      <td>fr andrew pinsent born 19 august 1966 is resea...</td>\n",
              "      <td>tbd</td>\n",
              "    </tr>\n",
              "    <tr>\n",
              "      <th>17</th>\n",
              "      <td>&lt;http://dbpedia.org/resource/Paddy_Dunne_(Gael...</td>\n",
              "      <td>Paddy Dunne</td>\n",
              "      <td>paddy dunne was a gaelic football player from ...</td>\n",
              "      <td>Gaelic footballer</td>\n",
              "    </tr>\n",
              "    <tr>\n",
              "      <th>18</th>\n",
              "      <td>&lt;http://dbpedia.org/resource/Alexandros_Mouzas&gt;</td>\n",
              "      <td>Alexandros Mouzas</td>\n",
              "      <td>alexandros mouzas born 1962 is a greek compose...</td>\n",
              "      <td>tbd</td>\n",
              "    </tr>\n",
              "    <tr>\n",
              "      <th>19</th>\n",
              "      <td>&lt;http://dbpedia.org/resource/John_Angus_Campbell&gt;</td>\n",
              "      <td>John Angus Campbell</td>\n",
              "      <td>john angus campbell born march 10 1942 in port...</td>\n",
              "      <td>tbd</td>\n",
              "    </tr>\n",
              "    <tr>\n",
              "      <th>20</th>\n",
              "      <td>&lt;http://dbpedia.org/resource/Chris_Batstone&gt;</td>\n",
              "      <td>Chris Batstone</td>\n",
              "      <td>chris batstone was the 20002002 lead singer of...</td>\n",
              "      <td>tbd</td>\n",
              "    </tr>\n",
              "    <tr>\n",
              "      <th>21</th>\n",
              "      <td>&lt;http://dbpedia.org/resource/Ceiron_Thomas&gt;</td>\n",
              "      <td>Ceiron Thomas</td>\n",
              "      <td>ceiron thomas born 23 october 1983 is a welsh ...</td>\n",
              "      <td>tbd</td>\n",
              "    </tr>\n",
              "    <tr>\n",
              "      <th>22</th>\n",
              "      <td>&lt;http://dbpedia.org/resource/Adel_Sellimi&gt;</td>\n",
              "      <td>Adel Sellimi</td>\n",
              "      <td>adel sellimi arabic was born on 16 november 19...</td>\n",
              "      <td>tbd</td>\n",
              "    </tr>\n",
              "    <tr>\n",
              "      <th>23</th>\n",
              "      <td>&lt;http://dbpedia.org/resource/Faith_Soloway&gt;</td>\n",
              "      <td>Faith Soloway</td>\n",
              "      <td>faith soloway born march 28 1964 is an america...</td>\n",
              "      <td>tbd</td>\n",
              "    </tr>\n",
              "    <tr>\n",
              "      <th>24</th>\n",
              "      <td>&lt;http://dbpedia.org/resource/Tom_Jennings&gt;</td>\n",
              "      <td>Tom Jennings</td>\n",
              "      <td>tom jennings born 1955 as thomas daniel jennin...</td>\n",
              "      <td>tbd</td>\n",
              "    </tr>\n",
              "  </tbody>\n",
              "</table>\n",
              "</div>\n",
              "    <div class=\"colab-df-buttons\">\n",
              "\n",
              "  <div class=\"colab-df-container\">\n",
              "    <button class=\"colab-df-convert\" onclick=\"convertToInteractive('df-579c2107-0337-4675-b279-3558dddedac9')\"\n",
              "            title=\"Convert this dataframe to an interactive table.\"\n",
              "            style=\"display:none;\">\n",
              "\n",
              "  <svg xmlns=\"http://www.w3.org/2000/svg\" height=\"24px\" viewBox=\"0 -960 960 960\">\n",
              "    <path d=\"M120-120v-720h720v720H120Zm60-500h600v-160H180v160Zm220 220h160v-160H400v160Zm0 220h160v-160H400v160ZM180-400h160v-160H180v160Zm440 0h160v-160H620v160ZM180-180h160v-160H180v160Zm440 0h160v-160H620v160Z\"/>\n",
              "  </svg>\n",
              "    </button>\n",
              "\n",
              "  <style>\n",
              "    .colab-df-container {\n",
              "      display:flex;\n",
              "      gap: 12px;\n",
              "    }\n",
              "\n",
              "    .colab-df-convert {\n",
              "      background-color: #E8F0FE;\n",
              "      border: none;\n",
              "      border-radius: 50%;\n",
              "      cursor: pointer;\n",
              "      display: none;\n",
              "      fill: #1967D2;\n",
              "      height: 32px;\n",
              "      padding: 0 0 0 0;\n",
              "      width: 32px;\n",
              "    }\n",
              "\n",
              "    .colab-df-convert:hover {\n",
              "      background-color: #E2EBFA;\n",
              "      box-shadow: 0px 1px 2px rgba(60, 64, 67, 0.3), 0px 1px 3px 1px rgba(60, 64, 67, 0.15);\n",
              "      fill: #174EA6;\n",
              "    }\n",
              "\n",
              "    .colab-df-buttons div {\n",
              "      margin-bottom: 4px;\n",
              "    }\n",
              "\n",
              "    [theme=dark] .colab-df-convert {\n",
              "      background-color: #3B4455;\n",
              "      fill: #D2E3FC;\n",
              "    }\n",
              "\n",
              "    [theme=dark] .colab-df-convert:hover {\n",
              "      background-color: #434B5C;\n",
              "      box-shadow: 0px 1px 3px 1px rgba(0, 0, 0, 0.15);\n",
              "      filter: drop-shadow(0px 1px 2px rgba(0, 0, 0, 0.3));\n",
              "      fill: #FFFFFF;\n",
              "    }\n",
              "  </style>\n",
              "\n",
              "    <script>\n",
              "      const buttonEl =\n",
              "        document.querySelector('#df-579c2107-0337-4675-b279-3558dddedac9 button.colab-df-convert');\n",
              "      buttonEl.style.display =\n",
              "        google.colab.kernel.accessAllowed ? 'block' : 'none';\n",
              "\n",
              "      async function convertToInteractive(key) {\n",
              "        const element = document.querySelector('#df-579c2107-0337-4675-b279-3558dddedac9');\n",
              "        const dataTable =\n",
              "          await google.colab.kernel.invokeFunction('convertToInteractive',\n",
              "                                                    [key], {});\n",
              "        if (!dataTable) return;\n",
              "\n",
              "        const docLinkHtml = 'Like what you see? Visit the ' +\n",
              "          '<a target=\"_blank\" href=https://colab.research.google.com/notebooks/data_table.ipynb>data table notebook</a>'\n",
              "          + ' to learn more about interactive tables.';\n",
              "        element.innerHTML = '';\n",
              "        dataTable['output_type'] = 'display_data';\n",
              "        await google.colab.output.renderOutput(dataTable, element);\n",
              "        const docLink = document.createElement('div');\n",
              "        docLink.innerHTML = docLinkHtml;\n",
              "        element.appendChild(docLink);\n",
              "      }\n",
              "    </script>\n",
              "  </div>\n",
              "\n",
              "\n",
              "    <div id=\"df-20050f64-dcbc-4877-bc1e-acf6aeaf73d3\">\n",
              "      <button class=\"colab-df-quickchart\" onclick=\"quickchart('df-20050f64-dcbc-4877-bc1e-acf6aeaf73d3')\"\n",
              "                title=\"Suggest charts\"\n",
              "                style=\"display:none;\">\n",
              "\n",
              "<svg xmlns=\"http://www.w3.org/2000/svg\" height=\"24px\"viewBox=\"0 0 24 24\"\n",
              "     width=\"24px\">\n",
              "    <g>\n",
              "        <path d=\"M19 3H5c-1.1 0-2 .9-2 2v14c0 1.1.9 2 2 2h14c1.1 0 2-.9 2-2V5c0-1.1-.9-2-2-2zM9 17H7v-7h2v7zm4 0h-2V7h2v10zm4 0h-2v-4h2v4z\"/>\n",
              "    </g>\n",
              "</svg>\n",
              "      </button>\n",
              "\n",
              "<style>\n",
              "  .colab-df-quickchart {\n",
              "      --bg-color: #E8F0FE;\n",
              "      --fill-color: #1967D2;\n",
              "      --hover-bg-color: #E2EBFA;\n",
              "      --hover-fill-color: #174EA6;\n",
              "      --disabled-fill-color: #AAA;\n",
              "      --disabled-bg-color: #DDD;\n",
              "  }\n",
              "\n",
              "  [theme=dark] .colab-df-quickchart {\n",
              "      --bg-color: #3B4455;\n",
              "      --fill-color: #D2E3FC;\n",
              "      --hover-bg-color: #434B5C;\n",
              "      --hover-fill-color: #FFFFFF;\n",
              "      --disabled-bg-color: #3B4455;\n",
              "      --disabled-fill-color: #666;\n",
              "  }\n",
              "\n",
              "  .colab-df-quickchart {\n",
              "    background-color: var(--bg-color);\n",
              "    border: none;\n",
              "    border-radius: 50%;\n",
              "    cursor: pointer;\n",
              "    display: none;\n",
              "    fill: var(--fill-color);\n",
              "    height: 32px;\n",
              "    padding: 0;\n",
              "    width: 32px;\n",
              "  }\n",
              "\n",
              "  .colab-df-quickchart:hover {\n",
              "    background-color: var(--hover-bg-color);\n",
              "    box-shadow: 0 1px 2px rgba(60, 64, 67, 0.3), 0 1px 3px 1px rgba(60, 64, 67, 0.15);\n",
              "    fill: var(--button-hover-fill-color);\n",
              "  }\n",
              "\n",
              "  .colab-df-quickchart-complete:disabled,\n",
              "  .colab-df-quickchart-complete:disabled:hover {\n",
              "    background-color: var(--disabled-bg-color);\n",
              "    fill: var(--disabled-fill-color);\n",
              "    box-shadow: none;\n",
              "  }\n",
              "\n",
              "  .colab-df-spinner {\n",
              "    border: 2px solid var(--fill-color);\n",
              "    border-color: transparent;\n",
              "    border-bottom-color: var(--fill-color);\n",
              "    animation:\n",
              "      spin 1s steps(1) infinite;\n",
              "  }\n",
              "\n",
              "  @keyframes spin {\n",
              "    0% {\n",
              "      border-color: transparent;\n",
              "      border-bottom-color: var(--fill-color);\n",
              "      border-left-color: var(--fill-color);\n",
              "    }\n",
              "    20% {\n",
              "      border-color: transparent;\n",
              "      border-left-color: var(--fill-color);\n",
              "      border-top-color: var(--fill-color);\n",
              "    }\n",
              "    30% {\n",
              "      border-color: transparent;\n",
              "      border-left-color: var(--fill-color);\n",
              "      border-top-color: var(--fill-color);\n",
              "      border-right-color: var(--fill-color);\n",
              "    }\n",
              "    40% {\n",
              "      border-color: transparent;\n",
              "      border-right-color: var(--fill-color);\n",
              "      border-top-color: var(--fill-color);\n",
              "    }\n",
              "    60% {\n",
              "      border-color: transparent;\n",
              "      border-right-color: var(--fill-color);\n",
              "    }\n",
              "    80% {\n",
              "      border-color: transparent;\n",
              "      border-right-color: var(--fill-color);\n",
              "      border-bottom-color: var(--fill-color);\n",
              "    }\n",
              "    90% {\n",
              "      border-color: transparent;\n",
              "      border-bottom-color: var(--fill-color);\n",
              "    }\n",
              "  }\n",
              "</style>\n",
              "\n",
              "      <script>\n",
              "        async function quickchart(key) {\n",
              "          const quickchartButtonEl =\n",
              "            document.querySelector('#' + key + ' button');\n",
              "          quickchartButtonEl.disabled = true;  // To prevent multiple clicks.\n",
              "          quickchartButtonEl.classList.add('colab-df-spinner');\n",
              "          try {\n",
              "            const charts = await google.colab.kernel.invokeFunction(\n",
              "                'suggestCharts', [key], {});\n",
              "          } catch (error) {\n",
              "            console.error('Error during call to suggestCharts:', error);\n",
              "          }\n",
              "          quickchartButtonEl.classList.remove('colab-df-spinner');\n",
              "          quickchartButtonEl.classList.add('colab-df-quickchart-complete');\n",
              "        }\n",
              "        (() => {\n",
              "          let quickchartButtonEl =\n",
              "            document.querySelector('#df-20050f64-dcbc-4877-bc1e-acf6aeaf73d3 button');\n",
              "          quickchartButtonEl.style.display =\n",
              "            google.colab.kernel.accessAllowed ? 'block' : 'none';\n",
              "        })();\n",
              "      </script>\n",
              "    </div>\n",
              "\n",
              "    </div>\n",
              "  </div>\n"
            ],
            "application/vnd.google.colaboratory.intrinsic+json": {
              "type": "dataframe",
              "variable_name": "names_df",
              "summary": "{\n  \"name\": \"names_df\",\n  \"rows\": 42786,\n  \"fields\": [\n    {\n      \"column\": \"URI\",\n      \"properties\": {\n        \"dtype\": \"string\",\n        \"num_unique_values\": 42786,\n        \"samples\": [\n          \"<http://dbpedia.org/resource/Tom_Bancroft>\",\n          \"<http://dbpedia.org/resource/Bart_Zeller>\",\n          \"<http://dbpedia.org/resource/Caitlin_Morrall>\"\n        ],\n        \"semantic_type\": \"\",\n        \"description\": \"\"\n      }\n    },\n    {\n      \"column\": \"name\",\n      \"properties\": {\n        \"dtype\": \"string\",\n        \"num_unique_values\": 42489,\n        \"samples\": [\n          \"Jean Tub%C3%A9ry\",\n          \"Scott Frantz\",\n          \"Professor Robert Clancy\"\n        ],\n        \"semantic_type\": \"\",\n        \"description\": \"\"\n      }\n    },\n    {\n      \"column\": \"text\",\n      \"properties\": {\n        \"dtype\": \"string\",\n        \"num_unique_values\": 42786,\n        \"samples\": [\n          \"tom bancroft born 1967 london is a british jazz drummer and composer he began drumming aged seven and started off playing jazz with his father and identical twin brother phil after studying medicine at cambridge university he spent a year studying composition and arranging at mcgill university in montreal canada qualifying as a doctor in 1992 he then worked as a jazz musician and composer supporting his music income with locum work as a hospital doctor until 1998 when he began starting music related companies he is married to singer gina rae and has two children sam and sophie in 2004 he received the creative scotland awardin 1998 he launched caber music with support from the national lottery fund which went on to release over thirty cds over the next seven years to critical acclaim including two bbc jazz awards for best cd and numerous album of the year placings he has subsequently started the company abc creative music with his twin brother phil bancroft which develops creative music education resources which are now being used in more than 500 schools in scotlandas a drummer he has studied with jo morello joey baron and andrew cyrille and played with many musicians including sun ra joakim milder charlie mariano hamiett bluiett liane carroll oliver lake george colligan david berkman tommy smith julian argelles emil vicklicky martin taylor sheila jordan shooglenifty karen mathieson reid anderson billy jenkins bill wells geri allen mr mcfalls chamber and martyn bennetthe is currently the drummer with the dave milligan trio the chick lyall trio and kevin mackenzies vital signs the laura macdonald quartet and octet and plays in an improvising duo with the italian guitarist enzo roccohe is drummer and coleader of trio aab whose first album cold fusion was named an album of 1999 by bbc radio 3 and whose second album wherever i lay my home thats my hat was an album of 2001 in the guardian and picked in a list of 100 essential all time jazz albums by mojo magazine in 2001 they also released stranger things happen at c in 2002 reactivated in 2011 trio aab performed at the delhi jazz festivalas a band leader and composer he has led orchestro interrupto formerly the tom bancroft orchestra a contemporary jazz big band producing the album pieology in 1998 many festival performances a uk tour and a live concert broadcast on bbc radio 3 in 2004 the band toured the uk with geri allen and the tour was broadcast on bbc radio 3 and received five star reviews in the guardian and the scotsman and was voted jazz gig of the year in manchesters city limits and londons time out magazines orchestri interrupto released a cd in 2009 of the music from the geri allen tour with chick lyall on piano entitled the ballad of linda crawford bancroft has also composed for smaller groups including the orange ear ensemble octet and kilt couture a collaboration with french group arfi in 2006 he launched the new tom bancroft 6 pack as well as a spinoff childrens focussed band from the orchestra called kidsamonium which premiered at the gateshead international jazz festival at the sage gateshead and also at the cheltenham jazz festival in 2006 and went on to perform all over europebancrofts compositions have been used in radio film dance television and theatre he has been commissioned by bbc scotland bbc radio 3 glasgow international jazz festival assembly direct birmingham jazz and the national youth jazz orchestra of scotland he has danced in played and composed music for life on the planets surface with kelsey michael and a case for a picnic pt2 tracing houdini and hoops hats acrobats with the choreographer ruby worthhe has led many large scale community and education projects including 150 primary school children performing at the london jazz festival 200 at perth concert hall with classical percussionist colin currie and 100 parents grandparents and children playing drums and percussion at the big stix project at the gateshead jazz festivalbancroft is an active teacher and educator from private drum students to teaching composition and leading big bands he is an apple distinguished educator he has always been active in setting up new ways to promote jazz and improvisation he curated a series of mini festivals for uk and european musicians inside the glasgow jazz festival in the 1990s called clandemonium and europhonium he was active in setting up the scottish jazz federationin 2010 he was musical director of major dance show off kilter which played in major venues across scotland toured scotland with the dave milligan trio and premiered the band of eden malefemale big band to critical acclaimin late 2010 in his role at abc creative music bancroft launched the website abc creative music online to allow scottish schools to teach creative music by smartboard\",\n          \"barton wallace zeller born july 22 1941 is a former professional baseball catcher he played one game in major league baseball in 1970 for the st louis cardinals he recently served as manager of the joliet slammers of the frontier league but was released on september 10 2012zeller was signed by the cardinals in 1963 and spent four years in the cardinals farm system after missing the 1967 season he spent 1968 and 1969 with the lewiston broncs and arkansas travelers respectively zeller played in his only major league game on may 21 1970 against the philadelphia phillies he was inserted to catch the bottom of the ninth inning zeller never had a plate appearance but was credited with one put out on billy mccools strikeout of jim hutto zeller batted and threw righthanded his jersey number was 29 at the time of play he was 6 ft 1 in tall and weighed 185 lbzeller was released as an active player by the cardinals on june 8 but stayed on as a coach for the balance of the 1970 season he played in the minors in 1971 in the milwaukee brewers and new york yankees organizationszeller was the hitting coachthird base coach for the southern illinois miners of the frontier league an independent baseball league zeller began working for the miners in their inaugural 2007 season before coming to the miners zeller spent two seasons with the sioux falls canaries as a bench coach zeller was named as the first manager of slammers in january 2011zeller is currently managing the washington wild things of the frontier league\",\n          \"caitlin shea morrall machol born may 2 1983 is a beauty queen from burlington wisconsin who competed in the 2008 miss usa pageantmorrall who had previously competed in the miss wisconsin america system won the miss wisconsin usa 2007 title in the state pageant held at richland center on 2 september 2006 she competed in the nationally televised miss usa 2007 pageant which was broadcast live from the kodak theatre in hollywood california on march 23 2007 where she placed in top 15 this was the best finish by a contestant from wisconsin in 28 yearsin june 2006 morrall placed first runnerup in the miss wisconsin competition where she competed as miss burlington area chocolatefest she had previously placed 3rd runnerup in 2004 1st runnerup in 2003 and 2nd runnerup in 2002 morrall has held other local titles such as miss racine in 2002 miss milwaukee in 2003 and miss southern wisconsin in 2004 despite being eligible to compete in the miss america system for one more year morrall made the decision to compete in the miss wisconsin usa pageant one week before applications for the pageant closedmorrall is a 2001 graduate of burlington high school wisconsin and is a 2008 graduate of alverno college in milwaukee with a bachelor of arts degree in professional communicationcaitlin is currently the traffic reporter in the morning for wtmjtv 4\"\n        ],\n        \"semantic_type\": \"\",\n        \"description\": \"\"\n      }\n    },\n    {\n      \"column\": \"info_nugget\",\n      \"properties\": {\n        \"dtype\": \"category\",\n        \"num_unique_values\": 1001,\n        \"samples\": [\n          \"escapologist\",\n          \"Green politician\",\n          \"negotiator\"\n        ],\n        \"semantic_type\": \"\",\n        \"description\": \"\"\n      }\n    }\n  ]\n}"
            }
          },
          "metadata": {},
          "execution_count": 13
        }
      ]
    },
    {
      "cell_type": "code",
      "source": [
        "names_df.info_nugget.value_counts()"
      ],
      "metadata": {
        "colab": {
          "base_uri": "https://localhost:8080/",
          "height": 490
        },
        "id": "o3MBL_ZDylKp",
        "outputId": "c78a49ee-d0c4-4aaf-8a2e-376d82b2b445"
      },
      "execution_count": null,
      "outputs": [
        {
          "output_type": "execute_result",
          "data": {
            "text/plain": [
              "info_nugget\n",
              "tbd                         38183\n",
              "musician                      280\n",
              "politician                    220\n",
              "footballer                    213\n",
              "baseball                      185\n",
              "                            ...  \n",
              "ice hockey b. 1945              1\n",
              "enduro rider                    1\n",
              "first baseman, born 1971        1\n",
              "bull rider                      1\n",
              "caver                           1\n",
              "Name: count, Length: 1001, dtype: int64"
            ],
            "text/html": [
              "<div>\n",
              "<style scoped>\n",
              "    .dataframe tbody tr th:only-of-type {\n",
              "        vertical-align: middle;\n",
              "    }\n",
              "\n",
              "    .dataframe tbody tr th {\n",
              "        vertical-align: top;\n",
              "    }\n",
              "\n",
              "    .dataframe thead th {\n",
              "        text-align: right;\n",
              "    }\n",
              "</style>\n",
              "<table border=\"1\" class=\"dataframe\">\n",
              "  <thead>\n",
              "    <tr style=\"text-align: right;\">\n",
              "      <th></th>\n",
              "      <th>count</th>\n",
              "    </tr>\n",
              "    <tr>\n",
              "      <th>info_nugget</th>\n",
              "      <th></th>\n",
              "    </tr>\n",
              "  </thead>\n",
              "  <tbody>\n",
              "    <tr>\n",
              "      <th>tbd</th>\n",
              "      <td>38183</td>\n",
              "    </tr>\n",
              "    <tr>\n",
              "      <th>musician</th>\n",
              "      <td>280</td>\n",
              "    </tr>\n",
              "    <tr>\n",
              "      <th>politician</th>\n",
              "      <td>220</td>\n",
              "    </tr>\n",
              "    <tr>\n",
              "      <th>footballer</th>\n",
              "      <td>213</td>\n",
              "    </tr>\n",
              "    <tr>\n",
              "      <th>baseball</th>\n",
              "      <td>185</td>\n",
              "    </tr>\n",
              "    <tr>\n",
              "      <th>...</th>\n",
              "      <td>...</td>\n",
              "    </tr>\n",
              "    <tr>\n",
              "      <th>ice hockey b. 1945</th>\n",
              "      <td>1</td>\n",
              "    </tr>\n",
              "    <tr>\n",
              "      <th>enduro rider</th>\n",
              "      <td>1</td>\n",
              "    </tr>\n",
              "    <tr>\n",
              "      <th>first baseman, born 1971</th>\n",
              "      <td>1</td>\n",
              "    </tr>\n",
              "    <tr>\n",
              "      <th>bull rider</th>\n",
              "      <td>1</td>\n",
              "    </tr>\n",
              "    <tr>\n",
              "      <th>caver</th>\n",
              "      <td>1</td>\n",
              "    </tr>\n",
              "  </tbody>\n",
              "</table>\n",
              "<p>1001 rows × 1 columns</p>\n",
              "</div><br><label><b>dtype:</b> int64</label>"
            ]
          },
          "metadata": {},
          "execution_count": 14
        }
      ]
    },
    {
      "cell_type": "markdown",
      "source": [
        "cool, just learned that an enduro rider is essentially a cross country motorcyclist from this."
      ],
      "metadata": {
        "id": "4F37cEXF15f-"
      }
    },
    {
      "cell_type": "code",
      "source": [
        "# save a copy of the df\n",
        "names_df1 = names_df.copy()"
      ],
      "metadata": {
        "id": "tJyv1RO-1Cck"
      },
      "execution_count": null,
      "outputs": []
    },
    {
      "cell_type": "markdown",
      "source": [
        "Next, let's take a stab at formatting the names and the text."
      ],
      "metadata": {
        "id": "tGVXCP8F2x46"
      }
    },
    {
      "cell_type": "code",
      "source": [
        "# format names column\n",
        "names_df1['name'] = names_df1['name'].apply(lambda x: urllib.parse.unquote(x).lower())\n",
        "names_df1['name'] = names_df1['name'].str.replace(' ', '_', regex=False)\n",
        "names_df1['name'] = names_df1['name'].str.replace('-', '_', regex=False)\n",
        "names_df1['name'] = names_df1['name'].str.replace('.', '_', regex=False)\n",
        "names_df1['name'] = names_df1['name'].str.replace('[^a-z_]', '', regex=True)\n",
        "\n",
        "# format text column\n",
        "names_df1['text'] = names_df1['text'].str.lower()\n",
        "\n",
        "# format info nugget\n",
        "names_df1['info_nugget']= names_df1['info_nugget'].str.lower()"
      ],
      "metadata": {
        "id": "BDV7NqRH2m98"
      },
      "execution_count": null,
      "outputs": []
    },
    {
      "cell_type": "markdown",
      "source": [
        "##Bag-of-Words: Nearest Neighbors and Sentiment"
      ],
      "metadata": {
        "id": "aK1HEZ0S79aW"
      }
    },
    {
      "cell_type": "markdown",
      "source": [
        "Let's begin to parse the text provided"
      ],
      "metadata": {
        "id": "7UxU0OB18CCr"
      }
    },
    {
      "cell_type": "code",
      "source": [
        "# pick a random person from name column\n",
        "target_name = np.random.choice(names_df1.name)\n",
        "print(target_name)\n",
        "\n",
        "target_row = names_df1[names_df1['name'] == target_name]"
      ],
      "metadata": {
        "colab": {
          "base_uri": "https://localhost:8080/"
        },
        "id": "m0pAgA1MxxeH",
        "outputId": "f54ed9f9-fa67-4411-dc59-774e0176a5a7"
      },
      "execution_count": null,
      "outputs": [
        {
          "output_type": "stream",
          "name": "stdout",
          "text": [
            "paula_d__silsby\n"
          ]
        }
      ]
    },
    {
      "source": [
        "# list of text column entries\n",
        "all_text = names_df1['text'].astype(str).tolist()\n",
        "\n",
        "# vectorize using Bag of Words\n",
        "vectorizer = CountVectorizer(stop_words='english')\n",
        "bow_matrix = vectorizer.fit_transform(all_text)\n",
        "\n",
        "# find cosine similarity between entries\n",
        "target_index = target_row.index[0]\n",
        "cos_similarities = cosine_similarity(bow_matrix[target_index], bow_matrix).flatten()"
      ],
      "cell_type": "code",
      "metadata": {
        "id": "nOrlzuKf9WqH"
      },
      "execution_count": null,
      "outputs": []
    },
    {
      "cell_type": "code",
      "source": [
        "bow_matrix.shape"
      ],
      "metadata": {
        "colab": {
          "base_uri": "https://localhost:8080/"
        },
        "id": "ecFmyc4nJeE_",
        "outputId": "4c5c8ddb-e859-4ab1-9233-dc06b6ca1212"
      },
      "execution_count": null,
      "outputs": [
        {
          "output_type": "execute_result",
          "data": {
            "text/plain": [
              "(42786, 437190)"
            ]
          },
          "metadata": {},
          "execution_count": 19
        }
      ]
    },
    {
      "cell_type": "code",
      "source": [
        "# get top 10 similar people (excluding self)\n",
        "similar_indices = cos_similarities.argsort()[-11:-1][::-1]\n",
        "similar_people = names_df1.iloc[similar_indices][['name', 'text']]\n",
        "\n",
        "# return similar people\n",
        "print(f\"\\nTop 10 people similar to '{target_name}':\")\n",
        "for i, row in similar_people.iterrows():\n",
        "    print(f\"- {row['name']}\")\n",
        "\n",
        "# sentiment analysis of target person's overview\n",
        "target_overview = target_row['text'].values[0]\n",
        "sentiment = TextBlob(target_overview).sentiment\n",
        "print(f\"\\nSentiment of {target_name}'s overview:\")\n",
        "print(f\"Polarity: {sentiment.polarity:.2f}, Subjectivity: {sentiment.subjectivity:.2f}\")"
      ],
      "metadata": {
        "id": "S70T1Fz04GPE"
      },
      "execution_count": null,
      "outputs": []
    },
    {
      "cell_type": "markdown",
      "source": [
        "looks like things work, but there's typos in the names still, i'll go back and fix later. (edit: fixed above in data cleaning)"
      ],
      "metadata": {
        "id": "Ip2YP5mwzKpa"
      }
    },
    {
      "cell_type": "markdown",
      "metadata": {
        "id": "SyoC6PWeN9un"
      },
      "source": [
        "# Part 2)\n",
        "\n"
      ]
    },
    {
      "cell_type": "markdown",
      "metadata": {
        "id": "AJxfrb48N-v9"
      },
      "source": [
        "- For the same target person that you chose in Part 1), use the Wikipedia API to access the whole content of the target person's Wikipedia page.\n",
        "- The goal of Part 2) is to ...\n",
        "  1. Print out the text of the Wikipedia article for the target person\n",
        "  1. Determine the sentiment of the text of the Wikipedia page for the target person\n",
        "  1. Collect the text of the Wikipedia pages from the 10 nearest neighbors from Part 1)\n",
        "  1. Determine the nearness ranking of these 10 people to your target person based on their entire Wikipedia page\n",
        "  1. Compare, i.e. plot,  the nearest ranking from Step 1) with the Wikipedia page nearness ranking.  A difference of the rank is one means of comparison.\n",
        "\n"
      ]
    },
    {
      "cell_type": "markdown",
      "source": [
        "## dbpedia DOI --> wikipedia URL : Beatiful Soup"
      ],
      "metadata": {
        "id": "dcRI_3Dr87F5"
      }
    },
    {
      "cell_type": "markdown",
      "source": [
        "*Caution you may receive a 502 error here. not an error in the code, but just poor connection to wi-fi or server. Wait it out, and error should resolve.*"
      ],
      "metadata": {
        "id": "hjmuQOBpslZF"
      }
    },
    {
      "source": [
        "import time\n",
        "import requests\n",
        "from requests.exceptions import RequestException\n",
        "\n",
        "def doi(target_name):\n",
        "    \"\"\"\n",
        "    Given Target person's name, return dbpedia doi from name df and return request response.\n",
        "    Includes retry mechanism for handling intermittent connection issues.\n",
        "    \"\"\"\n",
        "    # find and format doi from df\n",
        "    doi_name = names_df1[names_df1['name'] == target_name]['URI'].values[0]\n",
        "    doi_name = doi_name.lstrip('<').rstrip('>')\n",
        "\n",
        "    # Retry mechanism with exponential backoff\n",
        "    max_retries = 10\n",
        "    retry_delay = 10  # Initial delay in seconds\n",
        "    for attempt in range(max_retries):\n",
        "        try:\n",
        "            dbpedia = requests.get(doi_name)\n",
        "            dbpedia.raise_for_status()  # Raise HTTPError for bad responses\n",
        "            return dbpedia\n",
        "        except RequestException as e:\n",
        "            print(f\"Attempt {attempt + 1} failed: {e}\")\n",
        "            if attempt < max_retries - 1:\n",
        "                time.sleep(retry_delay)\n",
        "                retry_delay *= 1  # Exponential backoff\n",
        "            else:\n",
        "                print(f\"Failed to fetch dbpedia after {max_retries} attempts.\")\n",
        "                # Handle the error as needed, e.g., return None or raise an exception\n",
        "                return None\n",
        "\n",
        "\n"
      ],
      "cell_type": "code",
      "metadata": {
        "id": "g0JI79gl2xRK"
      },
      "execution_count": null,
      "outputs": []
    },
    {
      "cell_type": "code",
      "source": [
        "target_dbpedia = doi(target_name)"
      ],
      "metadata": {
        "id": "vP8sT9IqYnnV"
      },
      "execution_count": null,
      "outputs": []
    },
    {
      "source": [
        "def bs_parser(dbpedia):\n",
        "  \"\"\"Given dbpedia dbpedia link, return wikipedia url\"\"\"\n",
        "\n",
        "  # target dbpedia html code\n",
        "  html = dbpedia.text\n",
        "\n",
        "  # call beautiful soup dom html parser for selecting a-tags\n",
        "  dom = BeautifulSoup(html, \"html.parser\")\n",
        "  a_tags = dom.select(\"a\")\n",
        "\n",
        "  # find wiki link for target\n",
        "  # Initialize wiki_url to None before the loop\n",
        "  wiki_url = None\n",
        "  for a_tag in a_tags:\n",
        "    href = a_tag.attrs[\"href\"]\n",
        "    if href.startswith(\"http\"):\n",
        "      rev = a_tag.attrs.get(\"rev\",\"\")\n",
        "      if \"foaf:primaryTopic\" in rev:\n",
        "        wiki_url = href\n",
        "        print(href)\n",
        "\n",
        "  # Check if wiki_url is still None after the loop and handle accordingly\n",
        "  if wiki_url is None:\n",
        "    print(\"Wikipedia URL not found in dbpedia page.\")\n",
        "    return None\n",
        "    # Or raise an exception:\n",
        "    # raise ValueError(\"Wikipedia URL not found in dbpedia page.\")\n",
        "\n",
        "  return wiki_url"
      ],
      "cell_type": "code",
      "metadata": {
        "id": "4gJnwn7ibEIB"
      },
      "execution_count": null,
      "outputs": []
    },
    {
      "cell_type": "code",
      "source": [
        "target_wiki_url = bs_parser(target_dbpedia)"
      ],
      "metadata": {
        "id": "o-A8eeFBR0DG"
      },
      "execution_count": null,
      "outputs": []
    },
    {
      "cell_type": "markdown",
      "source": [
        "## Wikipedia info"
      ],
      "metadata": {
        "id": "YZoNvGb7_mxR"
      }
    },
    {
      "cell_type": "code",
      "source": [
        "# wikipedia API setup\n",
        "wiki = wikipediaapi.Wikipedia(\n",
        "    language='en',\n",
        "    user_agent='Big Bad Wolf' # let me in, let me in, wikipedia!\n",
        ")\n",
        "\n",
        "def get_wiki_text(wiki_url):\n",
        "  \"\"\"Given the URL to target person's wikipedia page, return wikipedia page title and first 5000 characters from page article.\n",
        "  If page is not found, return error message.\n",
        "  \"\"\"\n",
        "\n",
        "  # extract page title from URL\n",
        "  page_title = wiki_url.rsplit('/', 1)[-1]\n",
        "\n",
        "  # fetch full article text\n",
        "  page = wiki.page(page_title)\n",
        "\n",
        "  if page.exists():\n",
        "    wiki_text = page.text\n",
        "    print(f\"\\nTitle: {page.title}\")\n",
        "    print(f\"Summary (first 500 chars):\\n{page.text[:500]}\")\n",
        "    return wiki_text\n",
        "  else:\n",
        "    print(\"Page not found.\")"
      ],
      "metadata": {
        "id": "IltK7TgBAx8M"
      },
      "execution_count": null,
      "outputs": []
    },
    {
      "cell_type": "code",
      "source": [
        "target_wiki_text = get_wiki_text(target_wiki_url)"
      ],
      "metadata": {
        "id": "Is84wHuaNnrq"
      },
      "execution_count": null,
      "outputs": []
    },
    {
      "cell_type": "markdown",
      "source": [
        "## Wiki: Sentiment"
      ],
      "metadata": {
        "id": "sSoOHpbDN2xm"
      }
    },
    {
      "cell_type": "code",
      "source": [
        "def get_sentiment(wiki_text):\n",
        "  \"\"\"Given the article text from wikipedia, return sentiment polarity and subjectivity values\"\"\"\n",
        "\n",
        "  # sentiment analysis of target person's overview\n",
        "  sentiment_wiki = TextBlob(wiki_text).sentiment\n",
        "  print(f\"\\nSentiment of {target_name}'s overview:\")\n",
        "  print(f\"Polarity: {sentiment_wiki.polarity:.2f}, Subjectivity: {sentiment_wiki.subjectivity:.2f}\")"
      ],
      "metadata": {
        "id": "Ph9O0Gm8OCUA"
      },
      "execution_count": null,
      "outputs": []
    },
    {
      "cell_type": "code",
      "source": [
        "get_sentiment(target_wiki_text)"
      ],
      "metadata": {
        "id": "VEs-DFpYTXPz"
      },
      "execution_count": null,
      "outputs": []
    },
    {
      "cell_type": "markdown",
      "source": [
        "## Wiki: Nearest Neighbors Info"
      ],
      "metadata": {
        "id": "VxJPykqwPqHY"
      }
    },
    {
      "cell_type": "markdown",
      "source": [
        "Let's make a list of the nearest neighbors for iteration."
      ],
      "metadata": {
        "id": "gumiMSPdTieY"
      }
    },
    {
      "cell_type": "code",
      "source": [
        "# neighbor indices\n",
        "similar_indices"
      ],
      "metadata": {
        "id": "Kb0w0Qn-PuMa"
      },
      "execution_count": null,
      "outputs": []
    },
    {
      "cell_type": "code",
      "source": [
        "# make list of nearest neighbor names\n",
        "neighbors = []\n",
        "for index in similar_indices:\n",
        "  neighbors.append(names_df1.iloc[index]['name'])\n",
        "  print(names_df1.iloc[index]['name'])"
      ],
      "metadata": {
        "id": "gjff6PovTnXB"
      },
      "execution_count": null,
      "outputs": []
    },
    {
      "cell_type": "code",
      "source": [
        "# call empty list to catch wiki article texts\n",
        "neighbors_text = []\n",
        "\n",
        "# grab doi, bs_parser, get_wiki_info, and get_sentiment for each neighbor\n",
        "for name in neighbors:\n",
        "  dbpedia = doi(name)\n",
        "  wiki_url = bs_parser(dbpedia)\n",
        "  wiki_text = get_wiki_text(wiki_url)\n",
        "  get_sentiment(wiki_text)\n",
        "  print('\\n')\n",
        "\n",
        "  # save wikipedia text to an array\n",
        "  neighbors_text.append(wiki_text)\n",
        "\n",
        "neighbors_text_arr = np.array(neighbors_text)"
      ],
      "metadata": {
        "id": "RPx9p-n2TyIu",
        "collapsed": true
      },
      "execution_count": null,
      "outputs": []
    },
    {
      "cell_type": "markdown",
      "source": [
        "*Caution you may receive a 502 error here. not an error in the code, but just poor connection to wi-fi or server. Wait it out, and error should resolve. EDIT: added in retry command in case of failed access attempt(s).*"
      ],
      "metadata": {
        "id": "4gRQCr_js_Hi"
      }
    },
    {
      "cell_type": "code",
      "source": [
        "neighbors_text_arr"
      ],
      "metadata": {
        "id": "_ZPlIoz1UMnx"
      },
      "execution_count": null,
      "outputs": []
    },
    {
      "cell_type": "code",
      "source": [
        "# remove /n from text\n",
        "neighbors_text_arr = np.char.replace(neighbors_text_arr, '\\n', ' ')\n",
        "neighbors_text_arr\n",
        "\n",
        "# convert arr to df and add back in the neighbor name\n",
        "neighbors_df = pd.DataFrame(neighbors_text_arr, columns=['wiki_text'])\n",
        "neighbors_df['name'] = neighbors\n",
        "neighbors_df"
      ],
      "metadata": {
        "id": "IEC9NlMJd7j6"
      },
      "execution_count": null,
      "outputs": []
    },
    {
      "cell_type": "code",
      "source": [
        "# add in target name and wiki text\n",
        "neighbors_df.loc[len(neighbors_df.index)] = [target_wiki_text, target_name]\n",
        "neighbors_df"
      ],
      "metadata": {
        "id": "oF8uJDkcfh6W"
      },
      "execution_count": null,
      "outputs": []
    },
    {
      "cell_type": "markdown",
      "source": [
        "## Wiki: Nearness Ranking"
      ],
      "metadata": {
        "id": "-elxD0Kuefvy"
      }
    },
    {
      "cell_type": "markdown",
      "source": [
        "rank nearness of neighbors to target person (index 10)"
      ],
      "metadata": {
        "id": "aliBP4jPhzww"
      }
    },
    {
      "cell_type": "code",
      "source": [
        "target_name"
      ],
      "metadata": {
        "id": "3R16qqfqjv5T"
      },
      "execution_count": null,
      "outputs": []
    },
    {
      "cell_type": "code",
      "source": [
        "# call new column for nearness ranking\n",
        "neighbors_df['nearness_rank_wiki'] = \"tbd\"\n",
        "\n",
        "# vectorize using Bag of Words\n",
        "bow_matrix_wiki = vectorizer.fit_transform(neighbors_df['wiki_text'].astype(str).tolist())\n",
        "\n",
        "# find cosine similarity between entries\n",
        "target_row_wiki = neighbors_df[neighbors_df['name'] == target_name]\n",
        "target_index_wiki = target_row_wiki.index[0]\n",
        "cos_similarities_wiki = cosine_similarity(bow_matrix_wiki[target_index_wiki], bow_matrix_wiki).flatten()"
      ],
      "metadata": {
        "id": "qTaRW180elhM"
      },
      "execution_count": null,
      "outputs": []
    },
    {
      "cell_type": "code",
      "source": [
        "# add nearness ranking to df and order by nearness\n",
        "neighbors_df['nearness_rank_wiki'] = cos_similarities_wiki\n",
        "neighbors_df.sort_values(by='nearness_rank_wiki', ascending=False, inplace=True,)\n",
        "\n",
        "neighbors_df"
      ],
      "metadata": {
        "id": "bcd3k8YJkOsN"
      },
      "execution_count": null,
      "outputs": []
    },
    {
      "cell_type": "code",
      "source": [
        "# save copy\n",
        "neighbors_df1 = neighbors_df.copy()"
      ],
      "metadata": {
        "id": "SKfK81f7mySW"
      },
      "execution_count": null,
      "outputs": []
    },
    {
      "cell_type": "code",
      "source": [
        "# reset index and drop target name\n",
        "neighbors_df1.reset_index(drop=True, inplace=True)\n",
        "neighbors_df1.drop(neighbors_df1[neighbors_df1['name'] == target_name].index, inplace=True)\n",
        "neighbors_df1"
      ],
      "metadata": {
        "id": "b1P8_fVmm6WV"
      },
      "execution_count": null,
      "outputs": []
    },
    {
      "cell_type": "code",
      "source": [
        "# plot nearest neighbors\n",
        "plt.figure(figsize=(12, 8))\n",
        "sns.barplot(x='name', y='nearness_rank_wiki', data=neighbors_df1)\n",
        "plt.xlabel('Name')\n",
        "plt.ylabel('Nearness Rank')\n",
        "plt.title(f'Nearest Neighbors Nearness Ranking to {target_name} (wiki)')\n",
        "plt.xticks(rotation=45)\n",
        "plt.tight_layout()\n",
        "plt.show()\n"
      ],
      "metadata": {
        "id": "ncDfrge-nwCW"
      },
      "execution_count": null,
      "outputs": []
    },
    {
      "cell_type": "markdown",
      "source": [
        "## P1 BoW: Nearness Ranking"
      ],
      "metadata": {
        "id": "uOwfTL3FpR7I"
      }
    },
    {
      "cell_type": "code",
      "source": [
        "# add column dfpedia_text and nearness_rank_dfpedia to neighbors_df\n",
        "neighbors_df['dfpedia_text'] = \"tbd\"\n",
        "neighbors_df"
      ],
      "metadata": {
        "id": "haffqlrypcuJ"
      },
      "execution_count": null,
      "outputs": []
    },
    {
      "cell_type": "code",
      "source": [
        "# add dfpedia text from names_df to neighbors_df\n",
        "for index, row in neighbors_df.iterrows():\n",
        "  neighbors_df.loc[index, 'dfpedia_text'] = names_df1[names_df1['name'] == row['name']]['text'].values[0]\n",
        "\n",
        "# order by index\n",
        "neighbors_df.sort_index(inplace=True)\n",
        "\n",
        "neighbors_df"
      ],
      "metadata": {
        "id": "WqhX76DlqUZ1"
      },
      "execution_count": null,
      "outputs": []
    },
    {
      "cell_type": "code",
      "source": [
        "# vectorize using Bag of Words\n",
        "bow_matrix_dfpedia = vectorizer.fit_transform(neighbors_df['dfpedia_text'].astype(str).tolist())\n",
        "\n",
        "# find cosine similarity between entries\n",
        "target_row_dfpedia = neighbors_df[neighbors_df['name'] == target_name]\n",
        "target_index_dfpedia = target_row_dfpedia.index[0]\n",
        "cos_similarities_dfpedia = cosine_similarity(bow_matrix_dfpedia[target_index_dfpedia], bow_matrix_dfpedia).flatten()\n",
        "\n",
        "# add nearness ranking to df and order by nearness\n",
        "neighbors_df['nearness_rank_dfpedia'] = cos_similarities_dfpedia\n",
        "neighbors_df.sort_values(by='nearness_rank_dfpedia', ascending=False, inplace=True,)\n",
        "\n",
        "neighbors_df"
      ],
      "metadata": {
        "id": "RCD59WaYqjRS"
      },
      "execution_count": null,
      "outputs": []
    },
    {
      "cell_type": "code",
      "source": [
        "# make a copy\n",
        "neighbors_df2 = neighbors_df.copy()"
      ],
      "metadata": {
        "id": "o004i87O_-Ur"
      },
      "execution_count": null,
      "outputs": []
    },
    {
      "cell_type": "code",
      "source": [
        "# reset index and drop target name\n",
        "neighbors_df2.reset_index(drop=True, inplace=True)\n",
        "neighbors_df2.drop(neighbors_df2[neighbors_df2['name'] == target_name].index, inplace=True)\n",
        "\n",
        "neighbors_df2"
      ],
      "metadata": {
        "id": "oKpEst9nBREe"
      },
      "execution_count": null,
      "outputs": []
    },
    {
      "cell_type": "code",
      "source": [
        "# plot nearness neighbors from dfpedia\n",
        "plt.figure(figsize=(12, 8))\n",
        "sns.barplot(x='name', y='nearness_rank_dfpedia', data=neighbors_df2)\n",
        "plt.xlabel('Name')\n",
        "plt.ylabel('Nearness Rank')\n",
        "plt.title(f'Nearest Neighbors Nearness Ranking to {target_name} (dfpedia)')\n",
        "plt.xticks(rotation=45)\n",
        "plt.tight_layout()\n",
        "plt.show()"
      ],
      "metadata": {
        "id": "qMMAIA3WAEuZ"
      },
      "execution_count": null,
      "outputs": []
    },
    {
      "cell_type": "markdown",
      "metadata": {
        "id": "xEIw9hfFObw7"
      },
      "source": [
        "# Part 3)\n"
      ]
    },
    {
      "cell_type": "markdown",
      "source": [
        "##Interactive Cell"
      ],
      "metadata": {
        "id": "KTv71ItdmnnT"
      }
    },
    {
      "cell_type": "markdown",
      "metadata": {
        "id": "SVW0y4Axty7A"
      },
      "source": [
        "Make an interactive notebook where a user can choose or enter a name and the notebook displays the 10 closest individuals.\n",
        "\n",
        "In addition to presenting the project slides, at the end of the presentation each student will demonstrate their code using a famous person suggested by the other students that exists in the DBpedia set.\n"
      ]
    },
    {
      "cell_type": "markdown",
      "source": [
        "Make a drop down text box where you can select or type in a name from names_df and find the 10 closest neighbors"
      ],
      "metadata": {
        "id": "24mb-4fuDd6x"
      }
    },
    {
      "cell_type": "code",
      "source": [
        "# make list of names from names_df\n",
        "names_df.sort_values(by='name', inplace=True)\n",
        "for index, row in names_df.head(30).iterrows():\n",
        "  if '%' in row['name']:\n",
        "    encoded_name = row['name']\n",
        "    decoded_name = urllib.parse.unquote(encoded_name)\n",
        "    names_df.loc[index, 'name'] = decoded_name\n",
        "  else:\n",
        "    pass\n",
        "\n",
        "names_list = names_df['name'].tolist()\n",
        "names_list\n",
        "\n",
        "# make dropdown list\n",
        "dropdown = widgets.Combobox(\n",
        "    placeholder = 'type here',\n",
        "    options = names_list,\n",
        "    description='Select a name:',\n",
        "    ensure_option=True,\n",
        "    disabled=False\n",
        ")\n",
        "\n",
        "# display the dropdown\n",
        "display(dropdown)\n",
        "\n",
        "# bank the selection\n",
        "def on_select(change):\n",
        "  global selection\n",
        "  print(f\"You selected: {change.new}\")\n",
        "  selection = change.new\n",
        "\n",
        "dropdown.observe(on_select, names='value')\n",
        "\n",
        "# find corresponding name in names_df1\n",
        "selection_name = names_df1[names_df['name'] == selection]['name'].values[0]\n",
        "\n",
        "# target row\n",
        "selection_row = names_df1[names_df1['name'] == selection_name]\n",
        "\n",
        "# vectorize using Bag of Words\n",
        "bow_matrix = vectorizer.fit_transform(all_text)\n",
        "\n",
        "# find cosine similarity between entries\n",
        "target_index = selection_row.index[0]\n",
        "selection_cos_similarities = cosine_similarity(bow_matrix[target_index], bow_matrix).flatten()\n",
        "\n",
        "# get top 10 similar people (excluding self)\n",
        "selection_similar_indices = selection_cos_similarities.argsort()[-11:-1][::-1]\n",
        "selection_similar_people = names_df1.iloc[selection_similar_indices][['name', 'text']]\n",
        "\n",
        "# return similar people\n",
        "print(f\"\\nTop 10 people similar to '{selection_name}':\")\n",
        "for i, row in selection_similar_people.iterrows():\n",
        "    print(f\"- {row['name']}\")\n",
        "\n",
        "# sentiment analysis of target person's overview\n",
        "selection_overview = selection_row['text'].values[0]\n",
        "selection_sentiment = TextBlob(selection_overview).sentiment\n",
        "print(f\"\\nSentiment of {selection_name}'s overview:\")\n",
        "print(f\"Polarity: {selection_sentiment.polarity:.2f}, Subjectivity: {selection_sentiment.subjectivity:.2f}\")"
      ],
      "metadata": {
        "id": "sEfJtZD9r8Z0"
      },
      "execution_count": null,
      "outputs": []
    }
  ],
  "metadata": {
    "colab": {
      "provenance": [],
      "include_colab_link": true
    },
    "kernelspec": {
      "display_name": "Python 3 (ipykernel)",
      "language": "python",
      "name": "python3"
    },
    "language_info": {
      "codemirror_mode": {
        "name": "ipython",
        "version": 3
      },
      "file_extension": ".py",
      "mimetype": "text/x-python",
      "name": "python",
      "nbconvert_exporter": "python",
      "pygments_lexer": "ipython3",
      "version": "3.10.12"
    }
  },
  "nbformat": 4,
  "nbformat_minor": 0
}